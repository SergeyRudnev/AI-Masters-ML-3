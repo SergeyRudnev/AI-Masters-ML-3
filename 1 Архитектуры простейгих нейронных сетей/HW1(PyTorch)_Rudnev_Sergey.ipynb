{
 "cells": [
  {
   "cell_type": "code",
   "execution_count": 1,
   "metadata": {
    "id": "UyCGfNgA86kF"
   },
   "outputs": [],
   "source": [
    "import numpy as np\n",
    "import torch\n",
    "import cv2\n",
    "\n",
    "from glob import glob\n",
    "from collections import OrderedDict\n",
    "from matplotlib import pyplot as plt\n",
    "\n",
    "from torch import nn\n",
    "from torch.autograd import Function\n",
    "from torch.autograd import gradcheck\n",
    "from torch.optim import Optimizer, Adam\n",
    "from torch.utils.data import Dataset, DataLoader\n",
    "from torchvision import datasets\n",
    "from torchvision import transforms"
   ]
  },
  {
   "cell_type": "markdown",
   "metadata": {
    "id": "uFaWrLT4GkfY"
   },
   "source": [
    "## 1. Загрузка данных"
   ]
  },
  {
   "cell_type": "markdown",
   "metadata": {
    "id": "R930jTYMG6nB"
   },
   "source": [
    "Если вам требуется работать с каким-нибубь набором данных (dataset), то прежде всего проверьте нет ли его среди встроенных наборов данных https://pytorch.org/vision/stable/datasets.html.\n",
    "\n",
    "В текущем домашнем задании мы будем работать с набором данных FashionMNIST. Он присутствует в списке встроенных наборов данных, однако мы воспользуемся реализацией только для удобного и быстрого способа скачать наборы данных. Ниже предлагается реализовать собственный класс для считывания, обработки и упаковки данных."
   ]
  },
  {
   "cell_type": "code",
   "execution_count": 2,
   "metadata": {
    "id": "LauGpMvGF5qr"
   },
   "outputs": [],
   "source": [
    "training_data = datasets.FashionMNIST(\n",
    "    root=\"data\",\n",
    "    train=True,\n",
    "    download=True\n",
    ")\n",
    "\n",
    "test_data = datasets.FashionMNIST(\n",
    "    root=\"data\",\n",
    "    train=False,\n",
    "    download=True\n",
    ")"
   ]
  },
  {
   "cell_type": "markdown",
   "metadata": {
    "id": "RIT32OCMaLLP"
   },
   "source": [
    "Воспользуемся функцией загрузки данных из репозитория наборов данных."
   ]
  },
  {
   "cell_type": "code",
   "execution_count": 3,
   "metadata": {
    "id": "Fm_cf_hEIapm"
   },
   "outputs": [
    {
     "name": "stdout",
     "output_type": "stream",
     "text": [
      "t10k-images-idx3-ubyte\t   train-images-idx3-ubyte\r\n",
      "t10k-images-idx3-ubyte.gz  train-images-idx3-ubyte.gz\r\n",
      "t10k-labels-idx1-ubyte\t   train-labels-idx1-ubyte\r\n",
      "t10k-labels-idx1-ubyte.gz  train-labels-idx1-ubyte.gz\r\n"
     ]
    }
   ],
   "source": [
    "! ls data/FashionMNIST/raw"
   ]
  },
  {
   "cell_type": "code",
   "execution_count": 4,
   "metadata": {
    "id": "-xnY5xk1KBg2"
   },
   "outputs": [],
   "source": [
    "#https://github.com/zalandoresearch/fashion-mnist/blob/master/utils/mnist_reader.py\n",
    "\n",
    "def load_mnist(path, kind='train'):\n",
    "    import os\n",
    "    import gzip\n",
    "    import numpy as np\n",
    "\n",
    "    \"\"\"Load MNIST data from `path`\"\"\"\n",
    "    labels_path = os.path.join(path,\n",
    "                               '%s-labels-idx1-ubyte.gz'\n",
    "                               % kind)\n",
    "    images_path = os.path.join(path,\n",
    "                               '%s-images-idx3-ubyte.gz'\n",
    "                               % kind)\n",
    "\n",
    "    with gzip.open(labels_path, 'rb') as lbpath:\n",
    "        labels = np.frombuffer(lbpath.read(), dtype=np.uint8,\n",
    "                               offset=8)\n",
    "\n",
    "    with gzip.open(images_path, 'rb') as imgpath:\n",
    "        images = np.frombuffer(imgpath.read(), dtype=np.uint8,\n",
    "                               offset=16).reshape(len(labels), 784)\n",
    "\n",
    "    return images, labels"
   ]
  },
  {
   "cell_type": "markdown",
   "metadata": {
    "id": "qHIlWRV0aZnA"
   },
   "source": [
    "Для удобства PyTorch предоставляет ряд базовых классов `Dataset, DataLoader`, от которых предлагается отнаследоваться при разработке пользовательских классов. Базовый класс `Dataset` используется для загрузки и обработки данных, класс `DataLoader` используется для управления процессом загрузки данных, позволяет в многопоточном режиме загружать данные и упаковывать их.\n",
    "Эти вспомогательные классы находятся в модуле `torch.utils.data`. \n",
    "\n",
    "При наследовании от класса `torch.utils.data.Dataset` требуется переопределить метод `__len__`, который возвращает количество примеров в наборе данных, а также метод `__getitem__`, который позволяет получить доступ к примеру из набора данных по индексу."
   ]
  },
  {
   "cell_type": "markdown",
   "metadata": {
    "id": "3jf2e5cPbJV2"
   },
   "source": [
    "Реализуем класс для FasionMnist.\n",
    "\n",
    "Элементами датасета должны являться пары '(np.array, int)', массив имеет размерность `(28, 28)`, тип элемента `np.float32`."
   ]
  },
  {
   "cell_type": "code",
   "execution_count": 5,
   "metadata": {
    "id": "snTBHRTQI1bc"
   },
   "outputs": [],
   "source": [
    "import os\n",
    "\n",
    "class FashionMnist(Dataset):\n",
    "    def __init__(self, path, train=True, image_transform=None, \n",
    "                 label_transform=None):\n",
    "        if train:\n",
    "            images, labels = load_mnist(os.path.join(path,\"raw\"))\n",
    "        else:\n",
    "            images, labels = load_mnist(os.path.join(path,\"raw\"), kind=\"t10k\")\n",
    "\n",
    "        ###########################################################\n",
    "        ############# YOUR CODE HERE ##############################\n",
    "        \n",
    "        self.data = list(zip(images.reshape(-1, 28, 28), labels))\n",
    "        \n",
    "        ###########################################################\n",
    "\n",
    "    def __len__(self,):\n",
    "        ###########################################################\n",
    "        ############# YOUR CODE HERE ##############################\n",
    "        ###########################################################\n",
    "        return len(self.data)\n",
    "\n",
    "    def __getitem__(self, idx):\n",
    "        ###########################################################\n",
    "        ############# YOUR CODE HERE ##############################\n",
    "        ###########################################################\n",
    "        return self.data[idx]\n"
   ]
  },
  {
   "cell_type": "code",
   "execution_count": 6,
   "metadata": {
    "id": "XVGv_2zBNfpz"
   },
   "outputs": [],
   "source": [
    "test_dataset = FashionMnist(\"data/FashionMNIST\", train=False)\n",
    "train_dataset = FashionMnist(\"data/FashionMNIST\")"
   ]
  },
  {
   "cell_type": "markdown",
   "metadata": {
    "id": "JciETIfndiGR"
   },
   "source": [
    "Визуализируйте случайные элементы набора данных."
   ]
  },
  {
   "cell_type": "code",
   "execution_count": 7,
   "metadata": {
    "id": "wBky4UtmOS71"
   },
   "outputs": [
    {
     "data": {
      "image/png": "[encoded data removed]",
      "text/plain": [
       "<Figure size 576x576 with 9 Axes>"
      ]
     },
     "metadata": {
      "needs_background": "light"
     },
     "output_type": "display_data"
    }
   ],
   "source": [
    "###########################################################\n",
    "############# YOUR CODE HERE ##############################\n",
    "\n",
    "# https://pytorch.org/tutorials/beginner/basics/data_tutorial.html\n",
    "\n",
    "labels_map = {\n",
    "    0: \"T-Shirt\",\n",
    "    1: \"Trouser\",\n",
    "    2: \"Pullover\",\n",
    "    3: \"Dress\",\n",
    "    4: \"Coat\",\n",
    "    5: \"Sandal\",\n",
    "    6: \"Shirt\",\n",
    "    7: \"Sneaker\",\n",
    "    8: \"Bag\",\n",
    "    9: \"Ankle Boot\",\n",
    "}\n",
    "figure = plt.figure(figsize=(8, 8))\n",
    "cols, rows = 3, 3\n",
    "for i in range(1, cols * rows + 1):\n",
    "    sample_idx = torch.randint(len(training_data), size=(1,)).item()\n",
    "    img, label = training_data[sample_idx]\n",
    "    figure.add_subplot(rows, cols, i)\n",
    "    plt.title(labels_map[label])\n",
    "    plt.axis(\"off\")\n",
    "    plt.imshow(img, cmap=\"gray\")\n",
    "plt.show()\n",
    "###########################################################"
   ]
  },
  {
   "cell_type": "markdown",
   "metadata": {
    "id": "320RvzL7PZrI"
   },
   "source": [
    "В конструктор `Dataset` можно передать объект `torchvision.transforms`, который позволяет преобразовать исходные данные. Преобразование `torchvision.transforms.ToTensor` позволяет преобразоать данные из типа `PIL Image` и `numpy.float32` в тип `torch.float32`\n",
    "\n",
    "Реализуйте собственную поддержку преобразований в `FashionMnist`. Проверьте, что приведение типов работает корректно. "
   ]
  },
  {
   "cell_type": "code",
   "execution_count": 8,
   "metadata": {
    "id": "pQsGbfXUTxcx"
   },
   "outputs": [],
   "source": [
    "class ToTensor:\n",
    "    \"\"\"Convert ndarrays in sample to Tensors.\"\"\"\n",
    "\n",
    "    def __call__(self, sample):\n",
    "        return torch.from_numpy(sample)"
   ]
  },
  {
   "cell_type": "code",
   "execution_count": 9,
   "metadata": {
    "id": "7BpFQ_Y2PoeI"
   },
   "outputs": [],
   "source": [
    "transform = ToTensor()\n",
    "\n",
    "test_dataset = FashionMnist(\"data/FashionMNIST\", \n",
    "                            train=False, \n",
    "                            image_transform=transform, \n",
    "                            label_transform=transform\n",
    "                            )\n",
    "train_dataset = FashionMnist(\"data/FashionMNIST\",\n",
    "                             image_transform=transform, \n",
    "                             label_transform=transform\n",
    "                             )"
   ]
  },
  {
   "cell_type": "code",
   "execution_count": 10,
   "metadata": {
    "id": "ukLn9rY7SCsS"
   },
   "outputs": [
    {
     "name": "stdout",
     "output_type": "stream",
     "text": [
      "The type of the data is <class 'numpy.ndarray'>\n"
     ]
    }
   ],
   "source": [
    "print(f\"The type of the data is {type(test_dataset[0][0])}\")"
   ]
  },
  {
   "cell_type": "markdown",
   "metadata": {
    "id": "5Ltavx0QUMnm"
   },
   "source": [
    "Элементы набора данных могут быть объединены в пакеты (batch) явно и неявно. Если данные могут быть сконкатенированы или обЪединены каким-нибудь тривиальным способом, то можно не передавать никаких дополнительных парамертов в `torch.utils.data.Dataloader`."
   ]
  },
  {
   "cell_type": "code",
   "execution_count": 11,
   "metadata": {
    "id": "Cizxx6m0VAI7"
   },
   "outputs": [
    {
     "name": "stderr",
     "output_type": "stream",
     "text": [
      "/home/pk/Программы/anaconda3/lib/python3.9/site-packages/torch/utils/data/_utils/collate.py:149: UserWarning: The given NumPy array is not writable, and PyTorch does not support non-writable tensors. This means writing to this tensor will result in undefined behavior. You may want to copy the array to protect its data or make it writable before converting it to a tensor. This type of warning will be suppressed for the rest of this program. (Triggered internally at  /opt/conda/conda-bld/pytorch_1659484775609/work/torch/csrc/utils/tensor_numpy.cpp:178.)\n",
      "  return default_collate([torch.as_tensor(b) for b in batch])\n",
      "/home/pk/Программы/anaconda3/lib/python3.9/site-packages/torch/utils/data/_utils/collate.py:149: UserWarning: The given NumPy array is not writable, and PyTorch does not support non-writable tensors. This means writing to this tensor will result in undefined behavior. You may want to copy the array to protect its data or make it writable before converting it to a tensor. This type of warning will be suppressed for the rest of this program. (Triggered internally at  /opt/conda/conda-bld/pytorch_1659484775609/work/torch/csrc/utils/tensor_numpy.cpp:178.)\n",
      "  return default_collate([torch.as_tensor(b) for b in batch])\n"
     ]
    }
   ],
   "source": [
    "test_dataloader = DataLoader(test_dataset, batch_size=15, num_workers=2, shuffle=True)\n",
    "batch = next(iter(test_dataloader))"
   ]
  },
  {
   "cell_type": "code",
   "execution_count": 12,
   "metadata": {
    "id": "SIZiPrBgVwGA"
   },
   "outputs": [
    {
     "name": "stdout",
     "output_type": "stream",
     "text": [
      "The length of the batch is 2\n",
      "The shape of the batch[0] is torch.Size([15, 28, 28])\n"
     ]
    }
   ],
   "source": [
    "print(f\"The length of the batch is {len(batch)}\")\n",
    "print(f\"The shape of the batch[0] is {batch[0].shape}\")"
   ]
  },
  {
   "cell_type": "markdown",
   "metadata": {
    "id": "BCggRyOQWVIx"
   },
   "source": [
    "Однако, если наша структура данных не позволяет нам использовать объединение по умолчанию, то можно написать собственную функцию, которая будет пакетировать данные. \n",
    "\n",
    "Реализуйте функцию, преобразующую последовательность элементов массива в пакет (batch)."
   ]
  },
  {
   "cell_type": "code",
   "execution_count": 13,
   "metadata": {
    "id": "nQVh93fmWSjA"
   },
   "outputs": [],
   "source": [
    "def collate(batch):\n",
    "    ###########################################################\n",
    "    ############# YOUR CODE HERE ##############################\n",
    "    imgs = torch.tensor([item[0] for item in batch])\n",
    "    labels = torch.tensor([item[1] for item in batch])\n",
    "    ###########################################################\n",
    "    return imgs, labels"
   ]
  },
  {
   "cell_type": "markdown",
   "metadata": {
    "id": "Wij6F-vpe7KS"
   },
   "source": [
    "Убедитесть, что все работает корректно. "
   ]
  },
  {
   "cell_type": "code",
   "execution_count": 14,
   "metadata": {
    "id": "4dDtlvlCXNbW"
   },
   "outputs": [
    {
     "name": "stderr",
     "output_type": "stream",
     "text": [
      "/tmp/ipykernel_72641/73920298.py:4: UserWarning: Creating a tensor from a list of numpy.ndarrays is extremely slow. Please consider converting the list to a single numpy.ndarray with numpy.array() before converting to a tensor. (Triggered internally at  /opt/conda/conda-bld/pytorch_1659484775609/work/torch/csrc/utils/tensor_new.cpp:204.)\n",
      "  imgs = torch.tensor([item[0] for item in batch])\n"
     ]
    }
   ],
   "source": [
    "test_dataloader = DataLoader(test_dataset, batch_size=15, num_workers=2, \n",
    "                             shuffle=True, collate_fn=collate)\n",
    "train_dataloader = DataLoader(train_dataset, batch_size=15, num_workers=2,\n",
    "                              shuffle=True, collate_fn=collate)\n",
    "batch = next(iter(test_dataloader))"
   ]
  },
  {
   "cell_type": "code",
   "execution_count": 15,
   "metadata": {
    "id": "PFN00IyZXYaF"
   },
   "outputs": [
    {
     "name": "stdout",
     "output_type": "stream",
     "text": [
      "The length of the batch is 2\n",
      "The shape of the batch[0] is torch.Size([15, 28, 28])\n"
     ]
    }
   ],
   "source": [
    "print(f\"The length of the batch is {len(batch)}\")\n",
    "print(f\"The shape of the batch[0] is {batch[0].shape}\")"
   ]
  },
  {
   "cell_type": "markdown",
   "metadata": {
    "id": "VHcumwuF86kL"
   },
   "source": [
    "## 2. Реализация модулей нейронной сети (15 баллов)\n",
    "\n",
    "В этом разделе мы полностью реализуем модули для полносвязанной сети. \n",
    "\n",
    "Для начала нам понадобится реализовать прямой и обратный проход через слои. \n",
    "\n",
    "Наши слои будут соответствовать следующему интерфейсу (на примере \"тождественного\" слоя):"
   ]
  },
  {
   "cell_type": "markdown",
   "metadata": {
    "id": "zzhCW5HcfmKd"
   },
   "source": [
    "Сначала, мы реализуем функцию и её градиент. "
   ]
  },
  {
   "cell_type": "code",
   "execution_count": 16,
   "metadata": {
    "id": "rcqeFXxsFGQO"
   },
   "outputs": [],
   "source": [
    "class IdentityFunction(Function):\n",
    "    \"\"\"\n",
    "    We can implement our own custom autograd Functions by subclassing\n",
    "    torch.autograd.Function and implementing the forward and backward passes\n",
    "    which operate on Tensors.\n",
    "    \"\"\"\n",
    "    @staticmethod\n",
    "    def forward(ctx, input):\n",
    "        \"\"\"\n",
    "        In the forward pass we receive a Tensor containing the input and return\n",
    "        a Tensor containing the output. ctx is a context object that can be used\n",
    "        to stash information for backward computation. You can cache arbitrary\n",
    "        objects for use in the backward pass using the ctx.save_for_backward method.\n",
    "        \"\"\"\n",
    "        return input\n",
    "\n",
    "    @staticmethod\n",
    "    def backward(ctx, grad_output):\n",
    "        \"\"\"\n",
    "        In the backward pass we receive a Tensor containing the gradient of the loss\n",
    "        with respect to the output, and we need to compute the gradient of the loss\n",
    "        with respect to the input.\n",
    "        \"\"\"\n",
    "        return grad_output"
   ]
  },
  {
   "cell_type": "markdown",
   "metadata": {
    "id": "jc6Rtczffxv4"
   },
   "source": [
    "Разработанную функцию обернем классом `IdentityLayer`, все слои в `PyTorch` должны быть наследниками базового класса `nn.Module()`\n"
   ]
  },
  {
   "cell_type": "code",
   "execution_count": 17,
   "metadata": {
    "id": "SiqeRVcM86kM"
   },
   "outputs": [],
   "source": [
    "class IdentityLayer(nn.Module):\n",
    "    def __init__(self):\n",
    "        # An identity layer does nothing\n",
    "        super().__init__()\n",
    "        self.identity = IdentityFunction.apply\n",
    "    \n",
    "    def forward(self, inp):\n",
    "        # An identity layer just returns whatever it gets as input.\n",
    "        return self.identity(inp)"
   ]
  },
  {
   "cell_type": "markdown",
   "metadata": {
    "id": "N4IoM_pX86kQ"
   },
   "source": [
    "\n",
    "### 2.1 Функция активации ReLU\n",
    "Для начала реализуем функцию активации, слой нелинейности `ReLU(x) = max(x, 0)`. Параметров у слоя нет. Метод `forward` должен вернуть результат поэлементного применения `ReLU` к входному массиву, метод `backward` - градиент функции потерь по входу слоя. В нуле будем считать производную равной 0. Обратите внимание, что при обратном проходе могут понадобиться величины, посчитанные во время прямого прохода, поэтому их стоит сохранить в `ctx`."
   ]
  },
  {
   "cell_type": "code",
   "execution_count": 18,
   "metadata": {
    "id": "U9qrJ47xY6H0"
   },
   "outputs": [],
   "source": [
    "class ReLUFunction(Function):\n",
    "    @staticmethod\n",
    "    def forward(ctx, input):\n",
    "        ###########################################################\n",
    "        ############# YOUR CODE HERE ##############################\n",
    "        mask = input > 0\n",
    "        ctx.save_for_backward(mask)\n",
    "        relu = input.clone()\n",
    "        relu[~mask] = 0\n",
    "        ###########################################################\n",
    "        return relu\n",
    "\n",
    "    @staticmethod\n",
    "    def backward(ctx, grad_output):\n",
    "        ###########################################################\n",
    "        ############# YOUR CODE HERE ##############################\n",
    "        grad_input = grad_output.clone()\n",
    "        mask, = ctx.saved_tensors\n",
    "        grad_input[~mask] = 0\n",
    "        ###########################################################\n",
    "        return grad_input\n"
   ]
  },
  {
   "cell_type": "code",
   "execution_count": 19,
   "metadata": {
    "id": "y09ZVCsT86kT"
   },
   "outputs": [],
   "source": [
    "class ReLU(nn.Module):\n",
    "    def __init__(self):\n",
    "        ###########################################################\n",
    "        ############# YOUR CODE HERE ##############################\n",
    "        super().__init__()\n",
    "        self.relu = ReLUFunction.apply\n",
    "        ###########################################################\n",
    "    \n",
    "    def forward(self, input):\n",
    "        ###########################################################\n",
    "        ############# YOUR CODE HERE ##############################\n",
    "        ###########################################################\n",
    "        return self.relu(input)"
   ]
  },
  {
   "cell_type": "markdown",
   "metadata": {
    "id": "2RwKEUp_V3-L"
   },
   "source": [
    "Не забываем после реализации функции проверить градиент, испльзуя функцию `gradcheck`."
   ]
  },
  {
   "cell_type": "code",
   "execution_count": 20,
   "metadata": {
    "id": "K0RnDQZCXXZn"
   },
   "outputs": [],
   "source": [
    "###########################################################\n",
    "############# YOUR CODE HERE ##############################\n",
    "\n",
    "relu = ReLU()\n",
    "x = torch.randn((5,10), requires_grad = True).double()\n",
    "\n",
    "###########################################################\n",
    "assert gradcheck(relu, x)"
   ]
  },
  {
   "cell_type": "code",
   "execution_count": 21,
   "metadata": {
    "id": "vUmbmR4iXurd"
   },
   "outputs": [],
   "source": [
    "###########################################################\n",
    "############# YOUR CODE HERE ##############################\n",
    "\n",
    "torch_relu = nn.ReLU()\n",
    "our_relu = ReLU()\n",
    "\n",
    "###########################################################\n",
    "\n",
    "assert torch.norm(torch_relu(x.float()) - our_relu(x)) < 1e-5"
   ]
  },
  {
   "cell_type": "markdown",
   "metadata": {
    "id": "ojTR4GFd86kY"
   },
   "source": [
    "### 2.2 Линейный слой (linear, fully-connected)\n",
    "Далее реализуем полносвязный слой без нелинейности. У слоя два набора параметров: матрица весов (weights) и вектор смещения (bias)."
   ]
  },
  {
   "cell_type": "code",
   "execution_count": 22,
   "metadata": {
    "id": "fBl34oykbcBf"
   },
   "outputs": [],
   "source": [
    "class LinearFunction(Function):\n",
    "    @staticmethod\n",
    "    def forward(ctx, inp, weight, bias):\n",
    "        ###########################################################\n",
    "        ############# YOUR CODE HERE ##############################\n",
    "        output = inp @ weight.T + bias\n",
    "        ctx.save_for_backward(inp, weight, bias)\n",
    "        ###########################################################\n",
    "        return output\n",
    "    @staticmethod\n",
    "    def backward(ctx, grad_output):\n",
    "        ###########################################################\n",
    "        ############# YOUR CODE HERE ##############################\n",
    "        inp, weight, bias = ctx.saved_tensors\n",
    "        grad_input = grad_output @ weight.data \n",
    "        grad_weight = grad_output.T @ inp.data\n",
    "        grad_bias = grad_output.sum(dim = 0, keepdim = True)\n",
    "        ###########################################################\n",
    "        return grad_input, grad_weight, grad_bias"
   ]
  },
  {
   "cell_type": "code",
   "execution_count": 23,
   "metadata": {
    "id": "YbN5JOc886kZ"
   },
   "outputs": [],
   "source": [
    "class Linear(nn.Module):\n",
    "    def __init__(self, input_units, output_units):\n",
    "        super().__init__()\n",
    "        # initialize weights with small random numbers from normal distribution\n",
    "        ###########################################################\n",
    "        ############# YOUR CODE HERE ##############################\n",
    "        self.weight = torch.nn.Parameter(\n",
    "            torch.randn(output_units, input_units).double() * 1e-3\n",
    "        )\n",
    "        k = 1/input_units\n",
    "        self.bias = torch.nn.Parameter(torch.rand(1, output_units).double()*(2*np.sqrt(k)) - np.sqrt(k))\n",
    "        self.linear = LinearFunction.apply\n",
    "        ###########################################################\n",
    "        \n",
    "    def forward(self,inp):\n",
    "        ###########################################################\n",
    "        ############# YOUR CODE HERE ##############################\n",
    "        ###########################################################\n",
    "        return self.linear(inp, self.weight, self.bias)"
   ]
  },
  {
   "cell_type": "markdown",
   "metadata": {
    "id": "gToXI43WYMDv"
   },
   "source": [
    "Проверим градиент, а также сравним с работой нашего модуля с имплементированным в `PyTorch`. "
   ]
  },
  {
   "cell_type": "markdown",
   "metadata": {
    "id": "et7mKX5xZfMI"
   },
   "source": [
    "Проверка градиента:"
   ]
  },
  {
   "cell_type": "code",
   "execution_count": 24,
   "metadata": {
    "id": "PxLVozqLZb_H"
   },
   "outputs": [],
   "source": [
    "###########################################################\n",
    "############# YOUR CODE HERE ##############################\n",
    "linear = Linear(10,20)\n",
    "x = torch.randn((5,10), requires_grad = True).double()\n",
    "\n",
    "###########################################################\n",
    "assert gradcheck(linear, x, eps = 1e-9)"
   ]
  },
  {
   "cell_type": "markdown",
   "metadata": {
    "id": "pW8ppOciZndN"
   },
   "source": [
    "Сравнение с `PyTorch`. "
   ]
  },
  {
   "cell_type": "code",
   "execution_count": 25,
   "metadata": {
    "id": "IIR9svs7Zmq0"
   },
   "outputs": [],
   "source": [
    "###########################################################\n",
    "############# YOUR CODE HERE ##############################\n",
    "torch_linear = nn.Linear(10,20)\n",
    "our_linear = Linear(10,20)\n",
    "weight = torch.randn(20, 10) * 1e-3\n",
    "k = 1/5\n",
    "bias = torch.rand(1,20)*(2*np.sqrt(k)) - np.sqrt(k)\n",
    "###########################################################\n",
    "\n",
    "torch_state_dict = OrderedDict([(\"weight\", weight), (\"bias\", bias.reshape(-1))])\n",
    "our_state_dict = OrderedDict([(\"weight\", weight), (\"bias\", bias)])\n",
    "torch_linear.load_state_dict(torch_state_dict)\n",
    "our_linear.load_state_dict(our_state_dict)\n",
    "\n",
    "###########################################################\n",
    "############# YOUR CODE HERE ##############################\n",
    "assert torch.norm(torch_linear(x.float()) - our_linear(x)) < 1e-5\n",
    "###########################################################"
   ]
  },
  {
   "cell_type": "markdown",
   "metadata": {
    "id": "0dyhDg0D86kt"
   },
   "source": [
    "### 2.3 LogSoftmax (Log + Softmax)"
   ]
  },
  {
   "cell_type": "markdown",
   "metadata": {
    "id": "ArL0HLGH86ku"
   },
   "source": [
    "Для решения задачи многоклассовой классификации обычно используют `softmax` в качестве нелинейности на последнем слое, чтобы получить \"оценку\" вероятности классов для каждого объекта:$$\\hat y = softmax(x)  = \\bigl \\{\\frac {exp(x_i)}{\\sum_j exp(x_j)} \\bigr \\}_{i=1}^K, \\quad K - \\text{число классов}$$В этом случае удобно оптимизировать логарифм правдоподобия:$$L(y, \\hat y) = -\\sum_{i=1}^K y_i \\log \\hat y_i \\rightarrow \\min,$$где $y_i=1$, если объект принадлежит $i$-му классу, и 0 иначе. Записанная в таком виде, эта функция потерь совпадает с выражением для кросс-энтропии. Очевидно, что ее также можно переписать через индексацию, если через $y_i$ обозначить класс данного объекта:$$L(y, \\hat y) = - \\log \\hat y_{y_i} \\rightarrow \\min$$В таком виде ее удобно реализовывать.\n",
    "\n",
    "Реализуйте слой `LogSoftmax` (без параметров). Метод `forward` должен вычислять логарифм от `softmax`, а метод `backward` - пропускать градиенты. В общем случае в промежуточных вычислениях `backward` получится трехмерный тензор, однако для нашей конкретной функции потерь все вычисления можно реализовать в матричном виде. Поэтому мы будем предполагать, что аргумент `grad_output` - это матрица, у которой в каждой строке только одно ненулевое значение (не обязательно единица).\n",
    "\n",
    "Комментарий: разобраться `Log-Sum-Exp trick`"
   ]
  },
  {
   "cell_type": "code",
   "execution_count": 26,
   "metadata": {
    "id": "xSV3XD0N86ky"
   },
   "outputs": [],
   "source": [
    "class LogSoftmaxFunction(Function):\n",
    "    @staticmethod\n",
    "    def forward(ctx, inp):\n",
    "        ###########################################################\n",
    "        ############# YOUR CODE HERE ##############################\n",
    "        c = inp.max(dim = 1, keepdim = True).values\n",
    "        ctx.save_for_backward(c, inp)\n",
    "        logsumexp = (torch.log(torch.exp(inp - c).sum(dim = 1, keepdim = True)))\n",
    "        return inp - c - logsumexp\n",
    "        ###########################################################\n",
    "    \n",
    "    @staticmethod        \n",
    "    def backward(ctx, grad_output):\n",
    "        ###########################################################\n",
    "        ############# YOUR CODE HERE ##############################\n",
    "        c, inp = ctx.saved_tensors\n",
    "        \n",
    "        # так как считаем, что в каждой строчке матрицы grad_output только одно ненудевое значение, \n",
    "        # то можно уменьшить размерность этой матрицы, просуммировав элементы по строчкам\n",
    "        \n",
    "        reduced_grad_output = torch.sum(grad_output, dim = 1, keepdim = True)\n",
    "        softmax = torch.exp(inp - c) / torch.exp(inp - c).sum(dim = 1, keepdim = True)\n",
    "        grad_input = grad_output - softmax * reduced_grad_output # раскрыли скобки в градиенте, умножив grad_output на единичную матрицу\n",
    "        return grad_input\n",
    "        ###########################################################"
   ]
  },
  {
   "cell_type": "code",
   "execution_count": 27,
   "metadata": {
    "id": "z7OnC6o_z2vg"
   },
   "outputs": [],
   "source": [
    "class LogSoftmax(nn.Module):\n",
    "    def __init__(self):\n",
    "        super().__init__()\n",
    "        ###########################################################\n",
    "        ############# YOUR CODE HERE ##############################\n",
    "        self.logsoftmax = LogSoftmaxFunction.apply\n",
    "        ###########################################################\n",
    "\n",
    "    def forward(self, input):\n",
    "        ###########################################################\n",
    "        ############# YOUR CODE HERE ##############################\n",
    "        return self.logsoftmax(input)\n",
    "        ###########################################################"
   ]
  },
  {
   "cell_type": "markdown",
   "metadata": {
    "id": "Ke4G67cddjVA"
   },
   "source": [
    "Проверка градиентов."
   ]
  },
  {
   "cell_type": "code",
   "execution_count": 28,
   "metadata": {},
   "outputs": [],
   "source": [
    "logsoftmax = LogSoftmax()\n",
    "x = torch.randn((5,10), requires_grad = True).double()\n",
    "\n",
    "###########################################################\n",
    "assert gradcheck(logsoftmax, x)"
   ]
  },
  {
   "cell_type": "code",
   "execution_count": 29,
   "metadata": {
    "id": "cfgkVgGbrQEv"
   },
   "outputs": [],
   "source": [
    "###########################################################\n",
    "############# YOUR CODE HERE ##############################\n",
    "\n",
    "torch_logsoftmax = nn.LogSoftmax(dim = 1)\n",
    "our_logsoftmax = LogSoftmax()\n",
    "x = torch.randn((5,10), requires_grad = True)\n",
    "assert torch.norm(torch_logsoftmax(x.float()) - our_logsoftmax(x)) < 1e-5\n",
    "###########################################################"
   ]
  },
  {
   "cell_type": "markdown",
   "metadata": {
    "id": "3Sn2M_Q086k2"
   },
   "source": [
    "### 2.4 Dropout\n",
    "Реализуйте слой Dropout."
   ]
  },
  {
   "cell_type": "code",
   "execution_count": 30,
   "metadata": {
    "id": "qCLECy1y86k3"
   },
   "outputs": [],
   "source": [
    "class DropoutFunction(Function):\n",
    "    @staticmethod\n",
    "    def forward(ctx, inp, p):\n",
    "        ###########################################################\n",
    "        ############# YOUR CODE HERE ##############################\n",
    "        distr = torch.ones(inp.size()) * (1 - p)\n",
    "        samples = torch.bernoulli(distr)\n",
    "        normalizing_const = torch.tensor((1 / (1 - p)), dtype = torch.double)\n",
    "        out = inp * samples * normalizing_const\n",
    "        ctx.save_for_backward(samples, normalizing_const)\n",
    "        return out\n",
    "        ###########################################################\n",
    "        \n",
    "    @staticmethod\n",
    "    def backward(ctx, grad_output):\n",
    "        ###########################################################\n",
    "        ############# YOUR CODE HERE ##############################\n",
    "        samples, normalizing_const = ctx.saved_tensors\n",
    "        grad_input = samples * normalizing_const * grad_output\n",
    "    \n",
    "        return grad_input, None\n",
    "        ###########################################################"
   ]
  },
  {
   "cell_type": "code",
   "execution_count": 31,
   "metadata": {
    "id": "pS5z_mth1ZAZ"
   },
   "outputs": [],
   "source": [
    "class Dropout(nn.Module):\n",
    "    def __init__(self, p):\n",
    "        super().__init__()\n",
    "        ###########################################################\n",
    "        ############# YOUR CODE HERE ##############################\n",
    "        self.p = p\n",
    "        self.dropout = DropoutFunction.apply\n",
    "        ###########################################################\n",
    "        \n",
    "    def forward(self, input):\n",
    "        ###########################################################\n",
    "        ############# YOUR CODE HERE ##############################\n",
    "        if self.training:\n",
    "            return self.dropout(input, self.p)\n",
    "        else:\n",
    "            return self.dropout(input, self.p) * (1 - self.p)\n",
    "        ###########################################################"
   ]
  },
  {
   "cell_type": "markdown",
   "metadata": {
    "id": "hyPPzkCI86k7"
   },
   "source": [
    "### 2.5 CrossEntropy\n",
    "\n",
    "При решении задачи многоклассовой классификации мы будет использовать в качестве функции потерь кроссэнтропию. Реализуйте функцию потерь. В разделе 2.3 приведены полезные формулы."
   ]
  },
  {
   "cell_type": "code",
   "execution_count": 32,
   "metadata": {
    "id": "KotXWXnT3-j5"
   },
   "outputs": [],
   "source": [
    "class CrossEntropyFunction(Function):\n",
    "    @staticmethod\n",
    "    def forward(ctx, activations, target):\n",
    "        ###########################################################\n",
    "        ############# YOUR CODE HERE ##############################\n",
    "        ctx.save_for_backward(activations, target)\n",
    "        # activations - результат применения logsoftmax, то есть матрица по строчкам которой логарифмы вероятностей принадлежности к классам \n",
    "        # выбираем логарифм вероятности для каждого объекта, соответствующий принадлежности к его истинному классу, \n",
    "        # а потом берём среднее с обратным знаком(так как это ошибка и мы её хотим минимизировать) по всем объектам\n",
    "        return -activations[range(len(target)), target].mean()    \n",
    "        ###########################################################\n",
    "\n",
    "    @staticmethod\n",
    "    def backward(ctx, grad_output):\n",
    "        ###########################################################\n",
    "        ############# YOUR CODE HERE ##############################\n",
    "        activations, target = ctx.saved_tensors\n",
    "        grad = torch.zeros(activations.shape)\n",
    "        grad[range(len(target)), target] = -1/activations.shape[0]\n",
    "        grad_input = grad * grad_output\n",
    "        return grad_input, None\n",
    "        ###########################################################\n",
    "\n",
    "class CrossEntropy(nn.Module):\n",
    "    def __init__(self):\n",
    "        super().__init__()\n",
    "        ###########################################################\n",
    "        ############# YOUR CODE HERE ##############################\n",
    "        self.crossentropy = CrossEntropyFunction.apply\n",
    "        ###########################################################\n",
    "\n",
    "    def forward(self, activations, target):\n",
    "        ###########################################################\n",
    "        ############# YOUR CODE HERE ##############################\n",
    "        return self.crossentropy(activations, target)\n",
    "        ###########################################################  "
   ]
  },
  {
   "cell_type": "code",
   "execution_count": 33,
   "metadata": {},
   "outputs": [],
   "source": [
    "target = torch.randint(10, (5,), dtype=torch.int64)\n",
    "our_crossentropy = CrossEntropy()\n",
    "logsoftmax = LogSoftmax()\n",
    "x = torch.randn((5,10), requires_grad = True)\n",
    "logpredictions = logsoftmax(x)\n",
    "# заметим, что nn.functional.cross_entropy(logpredictions, target) = nn.functional.cross_entropy(x, target)\n",
    "assert torch.norm(nn.functional.cross_entropy(logpredictions, target) - our_crossentropy(logpredictions, target)) < 1e-5"
   ]
  },
  {
   "cell_type": "markdown",
   "metadata": {
    "id": "vFNcOfVNesCC"
   },
   "source": [
    "Проверка градиентов."
   ]
  },
  {
   "cell_type": "code",
   "execution_count": 34,
   "metadata": {
    "id": "lXQr7sllKi8k"
   },
   "outputs": [],
   "source": [
    "###########################################################\n",
    "############# YOUR CODE HERE ##############################\n",
    "logsoftmax = LogSoftmax()\n",
    "target = torch.randint(10, (5,), dtype=torch.int64)\n",
    "crossentropy = CrossEntropy()\n",
    "x = torch.randn((5,10), requires_grad = True).double()\n",
    "logpredictions = logsoftmax(x)\n",
    "assert gradcheck(crossentropy, (logpredictions, target))\n",
    "###########################################################"
   ]
  },
  {
   "cell_type": "markdown",
   "metadata": {
    "id": "kmzKDpyE86lg"
   },
   "source": [
    "## 3. Сборка и обучение нейронной сети (5 балла)"
   ]
  },
  {
   "cell_type": "markdown",
   "metadata": {
    "id": "mPqlZfj_86lg"
   },
   "source": [
    "Реализуйте произвольную нейросеть, состоящую из ваших блоков. Она должна состоять из нескольких полносвязанных слоев."
   ]
  },
  {
   "cell_type": "code",
   "execution_count": 35,
   "metadata": {},
   "outputs": [],
   "source": [
    "class Block(nn.Module):\n",
    "    def __init__(self, input_size, output_size, relu=True, dropout=True, p = 0.5):\n",
    "        super().__init__()\n",
    "        \n",
    "        self.linear = Linear(input_size, output_size)\n",
    "        self.relu = ReLU() if relu else nn.Identity()\n",
    "        self.dropout = Dropout(p) if dropout else nn.Identity()\n",
    "\n",
    "    def forward(self, x):\n",
    "        y1 = self.linear(x)\n",
    "        y2 = self.relu(y1)\n",
    "        y3 = self.dropout(y2)\n",
    "        return y3"
   ]
  },
  {
   "cell_type": "code",
   "execution_count": 36,
   "metadata": {
    "id": "tkESXVD87sM8"
   },
   "outputs": [],
   "source": [
    "class Network(nn.Module):\n",
    "    def __init__(self, input_size=28*28, hidden_layers_size=32, num_layers=5,\n",
    "                 num_classes=10):\n",
    "        super().__init__()\n",
    "        ###########################################################\n",
    "        ############# YOUR CODE HERE ##############################\n",
    "    \n",
    "        layers = [nn.Flatten(), Block(input_size, hidden_layers_size, relu = True, dropout = False)]\n",
    "        \n",
    "        for _ in range(num_layers):\n",
    "            layers.append(Block(hidden_layers_size, hidden_layers_size, relu = True, dropout = True))\n",
    "            \n",
    "        layers.append(Block(hidden_layers_size, num_classes, relu = False, dropout = False))\n",
    "        \n",
    "        layers.append(LogSoftmax())\n",
    "        \n",
    "        self.net = nn.Sequential(*layers)\n",
    "        \n",
    "       \n",
    "        ###########################################################\n",
    "\n",
    "    def forward(self, inp):\n",
    "        ###########################################################\n",
    "        ############# YOUR CODE HERE ##############################\n",
    "        return self.net(inp.double())\n",
    "        ###########################################################\n",
    "    def predict(self, inp):\n",
    "        ###########################################################\n",
    "        ############# YOUR CODE HERE ##############################\n",
    "        res = self.net(inp.double())\n",
    "        return res.argmax(dim = 1)\n",
    "        ###########################################################\n"
   ]
  },
  {
   "cell_type": "markdown",
   "metadata": {
    "id": "Vj-eEvMFfbSo"
   },
   "source": [
    "Ниже приведены функции, реализующие обучение нейронной сети. В данном задании их предлагается просто переиспользовать. "
   ]
  },
  {
   "cell_type": "code",
   "execution_count": 37,
   "metadata": {
    "id": "vDhcoCB4OpXE"
   },
   "outputs": [],
   "source": [
    "class EmptyContext:\n",
    "    def __enter__(self):\n",
    "        pass\n",
    "    \n",
    "    def __exit__(self, *args):\n",
    "        pass"
   ]
  },
  {
   "cell_type": "code",
   "execution_count": 38,
   "metadata": {
    "id": "8AsWblqIOquI"
   },
   "outputs": [],
   "source": [
    "# accuract metric for our classififcation\n",
    "def accuracy(model_labels, labels):\n",
    "    return torch.mean((model_labels == labels).float())"
   ]
  },
  {
   "cell_type": "code",
   "execution_count": 39,
   "metadata": {
    "id": "Oy33FHuv_Us-"
   },
   "outputs": [],
   "source": [
    "def perform_epoch(model, loader, criterion, \n",
    "                optimizer=None, device=None):\n",
    "    is_train = optimizer is not None\n",
    "    model = model.to(device)\n",
    "    if is_train:  \n",
    "        model.train()\n",
    "    else:\n",
    "        model.eval()\n",
    "\n",
    "    total_loss = 0\n",
    "    total_acc = 0\n",
    "    total_n = 0\n",
    "    with EmptyContext() if is_train else torch.no_grad():\n",
    "        for batch_data, batch_labels in loader:\n",
    "            batch_data = batch_data.to(device)\n",
    "            batch_labels = batch_labels.to(device) \n",
    "            model_labels = model(batch_data)\n",
    "            model_prediction = model.predict(batch_data)\n",
    "            batch_labels = batch_labels.to(torch.int64)\n",
    "            new_loss = criterion(model_labels, batch_labels)\n",
    "            if is_train:\n",
    "                optimizer.zero_grad()\n",
    "                new_loss.backward()\n",
    "                optimizer.step() \n",
    "\n",
    "            one_batch_loss = float(criterion(model_labels, batch_labels))\n",
    "            one_batch_acc = accuracy(model_prediction, batch_labels)\n",
    "            \n",
    "            total_loss += one_batch_loss\n",
    "            total_acc += one_batch_acc\n",
    "            total_n += 1 \n",
    "    return (total_loss / total_n, total_acc / total_n) "
   ]
  },
  {
   "cell_type": "markdown",
   "metadata": {
    "id": "FtamPEJZgOY5"
   },
   "source": [
    "Теперь обучим нашу нейронную сеть. В данном разделе будем использовать оптимизатор `Adam` с параметрами по умолчанию."
   ]
  },
  {
   "cell_type": "code",
   "execution_count": 40,
   "metadata": {
    "id": "mEcyUJJI_aAn"
   },
   "outputs": [],
   "source": [
    "model     = Network()\n",
    "optimizer = torch.optim.Adam(model.parameters())\n",
    "criterion = CrossEntropy()"
   ]
  },
  {
   "cell_type": "code",
   "execution_count": 41,
   "metadata": {
    "id": "OBADDSi0_jx7"
   },
   "outputs": [
    {
     "name": "stderr",
     "output_type": "stream",
     "text": [
      "/tmp/ipykernel_72641/73920298.py:4: UserWarning: Creating a tensor from a list of numpy.ndarrays is extremely slow. Please consider converting the list to a single numpy.ndarray with numpy.array() before converting to a tensor. (Triggered internally at  /opt/conda/conda-bld/pytorch_1659484775609/work/torch/csrc/utils/tensor_new.cpp:204.)\n",
      "  imgs = torch.tensor([item[0] for item in batch])\n",
      "/tmp/ipykernel_72641/73920298.py:4: UserWarning: Creating a tensor from a list of numpy.ndarrays is extremely slow. Please consider converting the list to a single numpy.ndarray with numpy.array() before converting to a tensor. (Triggered internally at  /opt/conda/conda-bld/pytorch_1659484775609/work/torch/csrc/utils/tensor_new.cpp:204.)\n",
      "  imgs = torch.tensor([item[0] for item in batch])\n"
     ]
    },
    {
     "name": "stdout",
     "output_type": "stream",
     "text": [
      "Epoch - 0 : loss 1.4559177421756282, accuracy 0.3891849219799042\n",
      "Current learning rate: 0.001\n"
     ]
    },
    {
     "name": "stderr",
     "output_type": "stream",
     "text": [
      "/tmp/ipykernel_72641/73920298.py:4: UserWarning: Creating a tensor from a list of numpy.ndarrays is extremely slow. Please consider converting the list to a single numpy.ndarray with numpy.array() before converting to a tensor. (Triggered internally at  /opt/conda/conda-bld/pytorch_1659484775609/work/torch/csrc/utils/tensor_new.cpp:204.)\n",
      "  imgs = torch.tensor([item[0] for item in batch])\n",
      "/tmp/ipykernel_72641/73920298.py:4: UserWarning: Creating a tensor from a list of numpy.ndarrays is extremely slow. Please consider converting the list to a single numpy.ndarray with numpy.array() before converting to a tensor. (Triggered internally at  /opt/conda/conda-bld/pytorch_1659484775609/work/torch/csrc/utils/tensor_new.cpp:204.)\n",
      "  imgs = torch.tensor([item[0] for item in batch])\n"
     ]
    },
    {
     "name": "stdout",
     "output_type": "stream",
     "text": [
      "Epoch - 1 : loss 1.199940356858684, accuracy 0.4895666539669037\n",
      "Current learning rate: 0.001\n"
     ]
    },
    {
     "name": "stderr",
     "output_type": "stream",
     "text": [
      "/tmp/ipykernel_72641/73920298.py:4: UserWarning: Creating a tensor from a list of numpy.ndarrays is extremely slow. Please consider converting the list to a single numpy.ndarray with numpy.array() before converting to a tensor. (Triggered internally at  /opt/conda/conda-bld/pytorch_1659484775609/work/torch/csrc/utils/tensor_new.cpp:204.)\n",
      "  imgs = torch.tensor([item[0] for item in batch])\n",
      "/tmp/ipykernel_72641/73920298.py:4: UserWarning: Creating a tensor from a list of numpy.ndarrays is extremely slow. Please consider converting the list to a single numpy.ndarray with numpy.array() before converting to a tensor. (Triggered internally at  /opt/conda/conda-bld/pytorch_1659484775609/work/torch/csrc/utils/tensor_new.cpp:204.)\n",
      "  imgs = torch.tensor([item[0] for item in batch])\n"
     ]
    },
    {
     "name": "stdout",
     "output_type": "stream",
     "text": [
      "Epoch - 2 : loss 1.1322998690060364, accuracy 0.5173488259315491\n",
      "Current learning rate: 0.001\n"
     ]
    },
    {
     "name": "stderr",
     "output_type": "stream",
     "text": [
      "/tmp/ipykernel_72641/73920298.py:4: UserWarning: Creating a tensor from a list of numpy.ndarrays is extremely slow. Please consider converting the list to a single numpy.ndarray with numpy.array() before converting to a tensor. (Triggered internally at  /opt/conda/conda-bld/pytorch_1659484775609/work/torch/csrc/utils/tensor_new.cpp:204.)\n",
      "  imgs = torch.tensor([item[0] for item in batch])\n",
      "/tmp/ipykernel_72641/73920298.py:4: UserWarning: Creating a tensor from a list of numpy.ndarrays is extremely slow. Please consider converting the list to a single numpy.ndarray with numpy.array() before converting to a tensor. (Triggered internally at  /opt/conda/conda-bld/pytorch_1659484775609/work/torch/csrc/utils/tensor_new.cpp:204.)\n",
      "  imgs = torch.tensor([item[0] for item in batch])\n"
     ]
    },
    {
     "name": "stdout",
     "output_type": "stream",
     "text": [
      "Epoch - 3 : loss 1.1533510198879584, accuracy 0.5161823630332947\n",
      "Current learning rate: 0.001\n"
     ]
    },
    {
     "name": "stderr",
     "output_type": "stream",
     "text": [
      "/tmp/ipykernel_72641/73920298.py:4: UserWarning: Creating a tensor from a list of numpy.ndarrays is extremely slow. Please consider converting the list to a single numpy.ndarray with numpy.array() before converting to a tensor. (Triggered internally at  /opt/conda/conda-bld/pytorch_1659484775609/work/torch/csrc/utils/tensor_new.cpp:204.)\n",
      "  imgs = torch.tensor([item[0] for item in batch])\n",
      "/tmp/ipykernel_72641/73920298.py:4: UserWarning: Creating a tensor from a list of numpy.ndarrays is extremely slow. Please consider converting the list to a single numpy.ndarray with numpy.array() before converting to a tensor. (Triggered internally at  /opt/conda/conda-bld/pytorch_1659484775609/work/torch/csrc/utils/tensor_new.cpp:204.)\n",
      "  imgs = torch.tensor([item[0] for item in batch])\n"
     ]
    },
    {
     "name": "stdout",
     "output_type": "stream",
     "text": [
      "Epoch - 4 : loss 1.155807482731561, accuracy 0.52036452293396\n",
      "Current learning rate: 0.001\n"
     ]
    },
    {
     "name": "stderr",
     "output_type": "stream",
     "text": [
      "/tmp/ipykernel_72641/73920298.py:4: UserWarning: Creating a tensor from a list of numpy.ndarrays is extremely slow. Please consider converting the list to a single numpy.ndarray with numpy.array() before converting to a tensor. (Triggered internally at  /opt/conda/conda-bld/pytorch_1659484775609/work/torch/csrc/utils/tensor_new.cpp:204.)\n",
      "  imgs = torch.tensor([item[0] for item in batch])\n",
      "/tmp/ipykernel_72641/73920298.py:4: UserWarning: Creating a tensor from a list of numpy.ndarrays is extremely slow. Please consider converting the list to a single numpy.ndarray with numpy.array() before converting to a tensor. (Triggered internally at  /opt/conda/conda-bld/pytorch_1659484775609/work/torch/csrc/utils/tensor_new.cpp:204.)\n",
      "  imgs = torch.tensor([item[0] for item in batch])\n"
     ]
    },
    {
     "name": "stdout",
     "output_type": "stream",
     "text": [
      "Epoch - 5 : loss 1.2081366980989559, accuracy 0.4903692603111267\n",
      "Current learning rate: 0.001\n"
     ]
    },
    {
     "name": "stderr",
     "output_type": "stream",
     "text": [
      "/tmp/ipykernel_72641/73920298.py:4: UserWarning: Creating a tensor from a list of numpy.ndarrays is extremely slow. Please consider converting the list to a single numpy.ndarray with numpy.array() before converting to a tensor. (Triggered internally at  /opt/conda/conda-bld/pytorch_1659484775609/work/torch/csrc/utils/tensor_new.cpp:204.)\n",
      "  imgs = torch.tensor([item[0] for item in batch])\n",
      "/tmp/ipykernel_72641/73920298.py:4: UserWarning: Creating a tensor from a list of numpy.ndarrays is extremely slow. Please consider converting the list to a single numpy.ndarray with numpy.array() before converting to a tensor. (Triggered internally at  /opt/conda/conda-bld/pytorch_1659484775609/work/torch/csrc/utils/tensor_new.cpp:204.)\n",
      "  imgs = torch.tensor([item[0] for item in batch])\n"
     ]
    },
    {
     "name": "stdout",
     "output_type": "stream",
     "text": [
      "Epoch - 6 : loss 1.2009869271250408, accuracy 0.4892999827861786\n",
      "Current learning rate: 0.001\n"
     ]
    },
    {
     "name": "stderr",
     "output_type": "stream",
     "text": [
      "/tmp/ipykernel_72641/73920298.py:4: UserWarning: Creating a tensor from a list of numpy.ndarrays is extremely slow. Please consider converting the list to a single numpy.ndarray with numpy.array() before converting to a tensor. (Triggered internally at  /opt/conda/conda-bld/pytorch_1659484775609/work/torch/csrc/utils/tensor_new.cpp:204.)\n",
      "  imgs = torch.tensor([item[0] for item in batch])\n",
      "/tmp/ipykernel_72641/73920298.py:4: UserWarning: Creating a tensor from a list of numpy.ndarrays is extremely slow. Please consider converting the list to a single numpy.ndarray with numpy.array() before converting to a tensor. (Triggered internally at  /opt/conda/conda-bld/pytorch_1659484775609/work/torch/csrc/utils/tensor_new.cpp:204.)\n",
      "  imgs = torch.tensor([item[0] for item in batch])\n"
     ]
    },
    {
     "name": "stdout",
     "output_type": "stream",
     "text": [
      "Epoch - 7 : loss 1.1745739404553381, accuracy 0.5145983099937439\n",
      "Current learning rate: 0.001\n"
     ]
    },
    {
     "name": "stderr",
     "output_type": "stream",
     "text": [
      "/tmp/ipykernel_72641/73920298.py:4: UserWarning: Creating a tensor from a list of numpy.ndarrays is extremely slow. Please consider converting the list to a single numpy.ndarray with numpy.array() before converting to a tensor. (Triggered internally at  /opt/conda/conda-bld/pytorch_1659484775609/work/torch/csrc/utils/tensor_new.cpp:204.)\n",
      "  imgs = torch.tensor([item[0] for item in batch])\n",
      "/tmp/ipykernel_72641/73920298.py:4: UserWarning: Creating a tensor from a list of numpy.ndarrays is extremely slow. Please consider converting the list to a single numpy.ndarray with numpy.array() before converting to a tensor. (Triggered internally at  /opt/conda/conda-bld/pytorch_1659484775609/work/torch/csrc/utils/tensor_new.cpp:204.)\n",
      "  imgs = torch.tensor([item[0] for item in batch])\n"
     ]
    },
    {
     "name": "stdout",
     "output_type": "stream",
     "text": [
      "Epoch - 8 : loss 1.218427773506033, accuracy 0.5102660655975342\n",
      "Current learning rate: 0.001\n"
     ]
    },
    {
     "name": "stderr",
     "output_type": "stream",
     "text": [
      "/tmp/ipykernel_72641/73920298.py:4: UserWarning: Creating a tensor from a list of numpy.ndarrays is extremely slow. Please consider converting the list to a single numpy.ndarray with numpy.array() before converting to a tensor. (Triggered internally at  /opt/conda/conda-bld/pytorch_1659484775609/work/torch/csrc/utils/tensor_new.cpp:204.)\n",
      "  imgs = torch.tensor([item[0] for item in batch])\n",
      "/tmp/ipykernel_72641/73920298.py:4: UserWarning: Creating a tensor from a list of numpy.ndarrays is extremely slow. Please consider converting the list to a single numpy.ndarray with numpy.array() before converting to a tensor. (Triggered internally at  /opt/conda/conda-bld/pytorch_1659484775609/work/torch/csrc/utils/tensor_new.cpp:204.)\n",
      "  imgs = torch.tensor([item[0] for item in batch])\n"
     ]
    },
    {
     "name": "stdout",
     "output_type": "stream",
     "text": [
      "Epoch - 9 : loss 1.1860476864790281, accuracy 0.5105156302452087\n",
      "Current learning rate: 0.001\n"
     ]
    }
   ],
   "source": [
    "device = torch.device(\"cuda\" if torch.cuda.is_available() else \"cpu\")\n",
    "\n",
    "model.to(device)\n",
    "\n",
    "for epoch in range(10):\n",
    "    loss, acc = perform_epoch(model, train_dataloader, criterion, \n",
    "                                optimizer=optimizer, device=device)\n",
    "    print(f\"Epoch - {epoch} : loss {loss}, accuracy {acc}\")\n",
    "    print(f\"Current learning rate: {optimizer.param_groups[0]['lr']}\")"
   ]
  },
  {
   "cell_type": "code",
   "execution_count": 44,
   "metadata": {
    "id": "JxrvNtm3YSJn"
   },
   "outputs": [
    {
     "name": "stdout",
     "output_type": "stream",
     "text": [
      "Epoch - 9 : loss 1.1860476864790281, accuracy 0.5105156302452087\n",
      "Current learning rate: 0.001\n"
     ]
    }
   ],
   "source": [
    "print(f\"Epoch - {epoch} : loss {loss}, accuracy {acc}\")\n",
    "print(f\"Current learning rate: {optimizer.param_groups[0]['lr']}\")"
   ]
  },
  {
   "cell_type": "markdown",
   "metadata": {
    "id": "WS41CQj0Y6Q8"
   },
   "source": [
    "Дальше:\n",
    "- Проведите эксперименты с числом слоев. \n",
    "- Постройте графики зависимости качества модели на тренировочной и тестовой выборках от числа слоев. Для получения статистически значимых результатов повторите эксперименты несколько раз.\n",
    "- Сделайте выводы. "
   ]
  },
  {
   "cell_type": "code",
   "execution_count": 46,
   "metadata": {},
   "outputs": [],
   "source": [
    "from tqdm import tqdm"
   ]
  },
  {
   "cell_type": "code",
   "execution_count": 51,
   "metadata": {
    "scrolled": true
   },
   "outputs": [
    {
     "name": "stderr",
     "output_type": "stream",
     "text": [
      "  0%|                                                     | 0/5 [00:00<?, ?it/s]/tmp/ipykernel_72641/73920298.py:4: UserWarning: Creating a tensor from a list of numpy.ndarrays is extremely slow. Please consider converting the list to a single numpy.ndarray with numpy.array() before converting to a tensor. (Triggered internally at  /opt/conda/conda-bld/pytorch_1659484775609/work/torch/csrc/utils/tensor_new.cpp:204.)\n",
      "  imgs = torch.tensor([item[0] for item in batch])\n",
      "/tmp/ipykernel_72641/73920298.py:4: UserWarning: Creating a tensor from a list of numpy.ndarrays is extremely slow. Please consider converting the list to a single numpy.ndarray with numpy.array() before converting to a tensor. (Triggered internally at  /opt/conda/conda-bld/pytorch_1659484775609/work/torch/csrc/utils/tensor_new.cpp:204.)\n",
      "  imgs = torch.tensor([item[0] for item in batch])\n"
     ]
    },
    {
     "name": "stdout",
     "output_type": "stream",
     "text": [
      "Epoch - 0 : loss train 0.8830415997189179, accuracy train 0.6573231220245361\n"
     ]
    },
    {
     "name": "stderr",
     "output_type": "stream",
     "text": [
      "/tmp/ipykernel_72641/73920298.py:4: UserWarning: Creating a tensor from a list of numpy.ndarrays is extremely slow. Please consider converting the list to a single numpy.ndarray with numpy.array() before converting to a tensor. (Triggered internally at  /opt/conda/conda-bld/pytorch_1659484775609/work/torch/csrc/utils/tensor_new.cpp:204.)\n",
      "  imgs = torch.tensor([item[0] for item in batch])\n",
      "/tmp/ipykernel_72641/73920298.py:4: UserWarning: Creating a tensor from a list of numpy.ndarrays is extremely slow. Please consider converting the list to a single numpy.ndarray with numpy.array() before converting to a tensor. (Triggered internally at  /opt/conda/conda-bld/pytorch_1659484775609/work/torch/csrc/utils/tensor_new.cpp:204.)\n",
      "  imgs = torch.tensor([item[0] for item in batch])\n"
     ]
    },
    {
     "name": "stdout",
     "output_type": "stream",
     "text": [
      "Epoch - 1 : loss train 0.7060119628116155, accuracy train 0.7480982542037964\n"
     ]
    },
    {
     "name": "stderr",
     "output_type": "stream",
     "text": [
      "/tmp/ipykernel_72641/73920298.py:4: UserWarning: Creating a tensor from a list of numpy.ndarrays is extremely slow. Please consider converting the list to a single numpy.ndarray with numpy.array() before converting to a tensor. (Triggered internally at  /opt/conda/conda-bld/pytorch_1659484775609/work/torch/csrc/utils/tensor_new.cpp:204.)\n",
      "  imgs = torch.tensor([item[0] for item in batch])\n",
      "/tmp/ipykernel_72641/73920298.py:4: UserWarning: Creating a tensor from a list of numpy.ndarrays is extremely slow. Please consider converting the list to a single numpy.ndarray with numpy.array() before converting to a tensor. (Triggered internally at  /opt/conda/conda-bld/pytorch_1659484775609/work/torch/csrc/utils/tensor_new.cpp:204.)\n",
      "  imgs = torch.tensor([item[0] for item in batch])\n"
     ]
    },
    {
     "name": "stdout",
     "output_type": "stream",
     "text": [
      "Epoch - 2 : loss train 0.6721723445998279, accuracy train 0.7635999321937561\n"
     ]
    },
    {
     "name": "stderr",
     "output_type": "stream",
     "text": [
      "/tmp/ipykernel_72641/73920298.py:4: UserWarning: Creating a tensor from a list of numpy.ndarrays is extremely slow. Please consider converting the list to a single numpy.ndarray with numpy.array() before converting to a tensor. (Triggered internally at  /opt/conda/conda-bld/pytorch_1659484775609/work/torch/csrc/utils/tensor_new.cpp:204.)\n",
      "  imgs = torch.tensor([item[0] for item in batch])\n",
      "/tmp/ipykernel_72641/73920298.py:4: UserWarning: Creating a tensor from a list of numpy.ndarrays is extremely slow. Please consider converting the list to a single numpy.ndarray with numpy.array() before converting to a tensor. (Triggered internally at  /opt/conda/conda-bld/pytorch_1659484775609/work/torch/csrc/utils/tensor_new.cpp:204.)\n",
      "  imgs = torch.tensor([item[0] for item in batch])\n"
     ]
    },
    {
     "name": "stdout",
     "output_type": "stream",
     "text": [
      "loss test  0.7558019667083894 accuracy test  tensor(0.7291)\n"
     ]
    },
    {
     "name": "stderr",
     "output_type": "stream",
     "text": [
      "/tmp/ipykernel_72641/73920298.py:4: UserWarning: Creating a tensor from a list of numpy.ndarrays is extremely slow. Please consider converting the list to a single numpy.ndarray with numpy.array() before converting to a tensor. (Triggered internally at  /opt/conda/conda-bld/pytorch_1659484775609/work/torch/csrc/utils/tensor_new.cpp:204.)\n",
      "  imgs = torch.tensor([item[0] for item in batch])\n",
      "/tmp/ipykernel_72641/73920298.py:4: UserWarning: Creating a tensor from a list of numpy.ndarrays is extremely slow. Please consider converting the list to a single numpy.ndarray with numpy.array() before converting to a tensor. (Triggered internally at  /opt/conda/conda-bld/pytorch_1659484775609/work/torch/csrc/utils/tensor_new.cpp:204.)\n",
      "  imgs = torch.tensor([item[0] for item in batch])\n"
     ]
    },
    {
     "name": "stdout",
     "output_type": "stream",
     "text": [
      "Epoch - 0 : loss train 1.00335831895505, accuracy train 0.6052021384239197\n"
     ]
    },
    {
     "name": "stderr",
     "output_type": "stream",
     "text": [
      "/tmp/ipykernel_72641/73920298.py:4: UserWarning: Creating a tensor from a list of numpy.ndarrays is extremely slow. Please consider converting the list to a single numpy.ndarray with numpy.array() before converting to a tensor. (Triggered internally at  /opt/conda/conda-bld/pytorch_1659484775609/work/torch/csrc/utils/tensor_new.cpp:204.)\n",
      "  imgs = torch.tensor([item[0] for item in batch])\n",
      "/tmp/ipykernel_72641/73920298.py:4: UserWarning: Creating a tensor from a list of numpy.ndarrays is extremely slow. Please consider converting the list to a single numpy.ndarray with numpy.array() before converting to a tensor. (Triggered internally at  /opt/conda/conda-bld/pytorch_1659484775609/work/torch/csrc/utils/tensor_new.cpp:204.)\n",
      "  imgs = torch.tensor([item[0] for item in batch])\n"
     ]
    },
    {
     "name": "stdout",
     "output_type": "stream",
     "text": [
      "Epoch - 1 : loss train 0.7887186809643015, accuracy train 0.7156121134757996\n"
     ]
    },
    {
     "name": "stderr",
     "output_type": "stream",
     "text": [
      "/tmp/ipykernel_72641/73920298.py:4: UserWarning: Creating a tensor from a list of numpy.ndarrays is extremely slow. Please consider converting the list to a single numpy.ndarray with numpy.array() before converting to a tensor. (Triggered internally at  /opt/conda/conda-bld/pytorch_1659484775609/work/torch/csrc/utils/tensor_new.cpp:204.)\n",
      "  imgs = torch.tensor([item[0] for item in batch])\n",
      "/tmp/ipykernel_72641/73920298.py:4: UserWarning: Creating a tensor from a list of numpy.ndarrays is extremely slow. Please consider converting the list to a single numpy.ndarray with numpy.array() before converting to a tensor. (Triggered internally at  /opt/conda/conda-bld/pytorch_1659484775609/work/torch/csrc/utils/tensor_new.cpp:204.)\n",
      "  imgs = torch.tensor([item[0] for item in batch])\n"
     ]
    },
    {
     "name": "stdout",
     "output_type": "stream",
     "text": [
      "Epoch - 2 : loss train 0.7526170360107716, accuracy train 0.7341979742050171\n"
     ]
    },
    {
     "name": "stderr",
     "output_type": "stream",
     "text": [
      "/tmp/ipykernel_72641/73920298.py:4: UserWarning: Creating a tensor from a list of numpy.ndarrays is extremely slow. Please consider converting the list to a single numpy.ndarray with numpy.array() before converting to a tensor. (Triggered internally at  /opt/conda/conda-bld/pytorch_1659484775609/work/torch/csrc/utils/tensor_new.cpp:204.)\n",
      "  imgs = torch.tensor([item[0] for item in batch])\n",
      "/tmp/ipykernel_72641/73920298.py:4: UserWarning: Creating a tensor from a list of numpy.ndarrays is extremely slow. Please consider converting the list to a single numpy.ndarray with numpy.array() before converting to a tensor. (Triggered internally at  /opt/conda/conda-bld/pytorch_1659484775609/work/torch/csrc/utils/tensor_new.cpp:204.)\n",
      "  imgs = torch.tensor([item[0] for item in batch])\n"
     ]
    },
    {
     "name": "stdout",
     "output_type": "stream",
     "text": [
      "Epoch - 3 : loss train 0.7303140173087299, accuracy train 0.7423983812332153\n"
     ]
    },
    {
     "name": "stderr",
     "output_type": "stream",
     "text": [
      "/tmp/ipykernel_72641/73920298.py:4: UserWarning: Creating a tensor from a list of numpy.ndarrays is extremely slow. Please consider converting the list to a single numpy.ndarray with numpy.array() before converting to a tensor. (Triggered internally at  /opt/conda/conda-bld/pytorch_1659484775609/work/torch/csrc/utils/tensor_new.cpp:204.)\n",
      "  imgs = torch.tensor([item[0] for item in batch])\n",
      "/tmp/ipykernel_72641/73920298.py:4: UserWarning: Creating a tensor from a list of numpy.ndarrays is extremely slow. Please consider converting the list to a single numpy.ndarray with numpy.array() before converting to a tensor. (Triggered internally at  /opt/conda/conda-bld/pytorch_1659484775609/work/torch/csrc/utils/tensor_new.cpp:204.)\n",
      "  imgs = torch.tensor([item[0] for item in batch])\n"
     ]
    },
    {
     "name": "stdout",
     "output_type": "stream",
     "text": [
      "Epoch - 4 : loss train 0.730499476555879, accuracy train 0.7466489672660828\n"
     ]
    },
    {
     "name": "stderr",
     "output_type": "stream",
     "text": [
      "/tmp/ipykernel_72641/73920298.py:4: UserWarning: Creating a tensor from a list of numpy.ndarrays is extremely slow. Please consider converting the list to a single numpy.ndarray with numpy.array() before converting to a tensor. (Triggered internally at  /opt/conda/conda-bld/pytorch_1659484775609/work/torch/csrc/utils/tensor_new.cpp:204.)\n",
      "  imgs = torch.tensor([item[0] for item in batch])\n",
      "/tmp/ipykernel_72641/73920298.py:4: UserWarning: Creating a tensor from a list of numpy.ndarrays is extremely slow. Please consider converting the list to a single numpy.ndarray with numpy.array() before converting to a tensor. (Triggered internally at  /opt/conda/conda-bld/pytorch_1659484775609/work/torch/csrc/utils/tensor_new.cpp:204.)\n",
      "  imgs = torch.tensor([item[0] for item in batch])\n"
     ]
    },
    {
     "name": "stdout",
     "output_type": "stream",
     "text": [
      "loss test  0.8091796806132837 accuracy test  tensor(0.7216)\n"
     ]
    },
    {
     "name": "stderr",
     "output_type": "stream",
     "text": [
      "/tmp/ipykernel_72641/73920298.py:4: UserWarning: Creating a tensor from a list of numpy.ndarrays is extremely slow. Please consider converting the list to a single numpy.ndarray with numpy.array() before converting to a tensor. (Triggered internally at  /opt/conda/conda-bld/pytorch_1659484775609/work/torch/csrc/utils/tensor_new.cpp:204.)\n",
      "  imgs = torch.tensor([item[0] for item in batch])\n",
      "/tmp/ipykernel_72641/73920298.py:4: UserWarning: Creating a tensor from a list of numpy.ndarrays is extremely slow. Please consider converting the list to a single numpy.ndarray with numpy.array() before converting to a tensor. (Triggered internally at  /opt/conda/conda-bld/pytorch_1659484775609/work/torch/csrc/utils/tensor_new.cpp:204.)\n",
      "  imgs = torch.tensor([item[0] for item in batch])\n"
     ]
    },
    {
     "name": "stdout",
     "output_type": "stream",
     "text": [
      "Epoch - 0 : loss train 0.8472824878306938, accuracy train 0.6696920990943909\n"
     ]
    },
    {
     "name": "stderr",
     "output_type": "stream",
     "text": [
      "/tmp/ipykernel_72641/73920298.py:4: UserWarning: Creating a tensor from a list of numpy.ndarrays is extremely slow. Please consider converting the list to a single numpy.ndarray with numpy.array() before converting to a tensor. (Triggered internally at  /opt/conda/conda-bld/pytorch_1659484775609/work/torch/csrc/utils/tensor_new.cpp:204.)\n",
      "  imgs = torch.tensor([item[0] for item in batch])\n",
      "/tmp/ipykernel_72641/73920298.py:4: UserWarning: Creating a tensor from a list of numpy.ndarrays is extremely slow. Please consider converting the list to a single numpy.ndarray with numpy.array() before converting to a tensor. (Triggered internally at  /opt/conda/conda-bld/pytorch_1659484775609/work/torch/csrc/utils/tensor_new.cpp:204.)\n",
      "  imgs = torch.tensor([item[0] for item in batch])\n"
     ]
    },
    {
     "name": "stdout",
     "output_type": "stream",
     "text": [
      "Epoch - 1 : loss train 0.6981168753628789, accuracy train 0.7431157231330872\n"
     ]
    },
    {
     "name": "stderr",
     "output_type": "stream",
     "text": [
      "/tmp/ipykernel_72641/73920298.py:4: UserWarning: Creating a tensor from a list of numpy.ndarrays is extremely slow. Please consider converting the list to a single numpy.ndarray with numpy.array() before converting to a tensor. (Triggered internally at  /opt/conda/conda-bld/pytorch_1659484775609/work/torch/csrc/utils/tensor_new.cpp:204.)\n",
      "  imgs = torch.tensor([item[0] for item in batch])\n",
      "/tmp/ipykernel_72641/73920298.py:4: UserWarning: Creating a tensor from a list of numpy.ndarrays is extremely slow. Please consider converting the list to a single numpy.ndarray with numpy.array() before converting to a tensor. (Triggered internally at  /opt/conda/conda-bld/pytorch_1659484775609/work/torch/csrc/utils/tensor_new.cpp:204.)\n",
      "  imgs = torch.tensor([item[0] for item in batch])\n"
     ]
    },
    {
     "name": "stdout",
     "output_type": "stream",
     "text": [
      "Epoch - 2 : loss train 0.675741168942026, accuracy train 0.7595992684364319\n"
     ]
    },
    {
     "name": "stderr",
     "output_type": "stream",
     "text": [
      "/tmp/ipykernel_72641/73920298.py:4: UserWarning: Creating a tensor from a list of numpy.ndarrays is extremely slow. Please consider converting the list to a single numpy.ndarray with numpy.array() before converting to a tensor. (Triggered internally at  /opt/conda/conda-bld/pytorch_1659484775609/work/torch/csrc/utils/tensor_new.cpp:204.)\n",
      "  imgs = torch.tensor([item[0] for item in batch])\n",
      "/tmp/ipykernel_72641/73920298.py:4: UserWarning: Creating a tensor from a list of numpy.ndarrays is extremely slow. Please consider converting the list to a single numpy.ndarray with numpy.array() before converting to a tensor. (Triggered internally at  /opt/conda/conda-bld/pytorch_1659484775609/work/torch/csrc/utils/tensor_new.cpp:204.)\n",
      "  imgs = torch.tensor([item[0] for item in batch])\n"
     ]
    },
    {
     "name": "stdout",
     "output_type": "stream",
     "text": [
      "Epoch - 3 : loss train 0.6631882047965059, accuracy train 0.76741623878479\n"
     ]
    },
    {
     "name": "stderr",
     "output_type": "stream",
     "text": [
      "/tmp/ipykernel_72641/73920298.py:4: UserWarning: Creating a tensor from a list of numpy.ndarrays is extremely slow. Please consider converting the list to a single numpy.ndarray with numpy.array() before converting to a tensor. (Triggered internally at  /opt/conda/conda-bld/pytorch_1659484775609/work/torch/csrc/utils/tensor_new.cpp:204.)\n",
      "  imgs = torch.tensor([item[0] for item in batch])\n",
      "/tmp/ipykernel_72641/73920298.py:4: UserWarning: Creating a tensor from a list of numpy.ndarrays is extremely slow. Please consider converting the list to a single numpy.ndarray with numpy.array() before converting to a tensor. (Triggered internally at  /opt/conda/conda-bld/pytorch_1659484775609/work/torch/csrc/utils/tensor_new.cpp:204.)\n",
      "  imgs = torch.tensor([item[0] for item in batch])\n"
     ]
    },
    {
     "name": "stdout",
     "output_type": "stream",
     "text": [
      "Epoch - 4 : loss train 0.6375503720933531, accuracy train 0.7780348658561707\n"
     ]
    },
    {
     "name": "stderr",
     "output_type": "stream",
     "text": [
      "/tmp/ipykernel_72641/73920298.py:4: UserWarning: Creating a tensor from a list of numpy.ndarrays is extremely slow. Please consider converting the list to a single numpy.ndarray with numpy.array() before converting to a tensor. (Triggered internally at  /opt/conda/conda-bld/pytorch_1659484775609/work/torch/csrc/utils/tensor_new.cpp:204.)\n",
      "  imgs = torch.tensor([item[0] for item in batch])\n",
      "/tmp/ipykernel_72641/73920298.py:4: UserWarning: Creating a tensor from a list of numpy.ndarrays is extremely slow. Please consider converting the list to a single numpy.ndarray with numpy.array() before converting to a tensor. (Triggered internally at  /opt/conda/conda-bld/pytorch_1659484775609/work/torch/csrc/utils/tensor_new.cpp:204.)\n",
      "  imgs = torch.tensor([item[0] for item in batch])\n"
     ]
    },
    {
     "name": "stdout",
     "output_type": "stream",
     "text": [
      "Epoch - 5 : loss train 0.6252288166311035, accuracy train 0.7822680473327637\n"
     ]
    },
    {
     "name": "stderr",
     "output_type": "stream",
     "text": [
      "/tmp/ipykernel_72641/73920298.py:4: UserWarning: Creating a tensor from a list of numpy.ndarrays is extremely slow. Please consider converting the list to a single numpy.ndarray with numpy.array() before converting to a tensor. (Triggered internally at  /opt/conda/conda-bld/pytorch_1659484775609/work/torch/csrc/utils/tensor_new.cpp:204.)\n",
      "  imgs = torch.tensor([item[0] for item in batch])\n",
      "/tmp/ipykernel_72641/73920298.py:4: UserWarning: Creating a tensor from a list of numpy.ndarrays is extremely slow. Please consider converting the list to a single numpy.ndarray with numpy.array() before converting to a tensor. (Triggered internally at  /opt/conda/conda-bld/pytorch_1659484775609/work/torch/csrc/utils/tensor_new.cpp:204.)\n",
      "  imgs = torch.tensor([item[0] for item in batch])\n"
     ]
    },
    {
     "name": "stdout",
     "output_type": "stream",
     "text": [
      "Epoch - 6 : loss train 0.6196152749144278, accuracy train 0.7845660448074341\n"
     ]
    },
    {
     "name": "stderr",
     "output_type": "stream",
     "text": [
      "/tmp/ipykernel_72641/73920298.py:4: UserWarning: Creating a tensor from a list of numpy.ndarrays is extremely slow. Please consider converting the list to a single numpy.ndarray with numpy.array() before converting to a tensor. (Triggered internally at  /opt/conda/conda-bld/pytorch_1659484775609/work/torch/csrc/utils/tensor_new.cpp:204.)\n",
      "  imgs = torch.tensor([item[0] for item in batch])\n",
      "/tmp/ipykernel_72641/73920298.py:4: UserWarning: Creating a tensor from a list of numpy.ndarrays is extremely slow. Please consider converting the list to a single numpy.ndarray with numpy.array() before converting to a tensor. (Triggered internally at  /opt/conda/conda-bld/pytorch_1659484775609/work/torch/csrc/utils/tensor_new.cpp:204.)\n",
      "  imgs = torch.tensor([item[0] for item in batch])\n"
     ]
    },
    {
     "name": "stdout",
     "output_type": "stream",
     "text": [
      "Epoch - 7 : loss train 0.6020412982993462, accuracy train 0.7979678511619568\n"
     ]
    },
    {
     "name": "stderr",
     "output_type": "stream",
     "text": [
      "/tmp/ipykernel_72641/73920298.py:4: UserWarning: Creating a tensor from a list of numpy.ndarrays is extremely slow. Please consider converting the list to a single numpy.ndarray with numpy.array() before converting to a tensor. (Triggered internally at  /opt/conda/conda-bld/pytorch_1659484775609/work/torch/csrc/utils/tensor_new.cpp:204.)\n",
      "  imgs = torch.tensor([item[0] for item in batch])\n",
      "/tmp/ipykernel_72641/73920298.py:4: UserWarning: Creating a tensor from a list of numpy.ndarrays is extremely slow. Please consider converting the list to a single numpy.ndarray with numpy.array() before converting to a tensor. (Triggered internally at  /opt/conda/conda-bld/pytorch_1659484775609/work/torch/csrc/utils/tensor_new.cpp:204.)\n",
      "  imgs = torch.tensor([item[0] for item in batch])\n"
     ]
    },
    {
     "name": "stdout",
     "output_type": "stream",
     "text": [
      "Epoch - 8 : loss train 0.6013274708718818, accuracy train 0.7964011430740356\n"
     ]
    },
    {
     "name": "stderr",
     "output_type": "stream",
     "text": [
      "/tmp/ipykernel_72641/73920298.py:4: UserWarning: Creating a tensor from a list of numpy.ndarrays is extremely slow. Please consider converting the list to a single numpy.ndarray with numpy.array() before converting to a tensor. (Triggered internally at  /opt/conda/conda-bld/pytorch_1659484775609/work/torch/csrc/utils/tensor_new.cpp:204.)\n",
      "  imgs = torch.tensor([item[0] for item in batch])\n",
      "/tmp/ipykernel_72641/73920298.py:4: UserWarning: Creating a tensor from a list of numpy.ndarrays is extremely slow. Please consider converting the list to a single numpy.ndarray with numpy.array() before converting to a tensor. (Triggered internally at  /opt/conda/conda-bld/pytorch_1659484775609/work/torch/csrc/utils/tensor_new.cpp:204.)\n",
      "  imgs = torch.tensor([item[0] for item in batch])\n"
     ]
    },
    {
     "name": "stdout",
     "output_type": "stream",
     "text": [
      "Epoch - 9 : loss train 0.5987352954252994, accuracy train 0.7967840433120728\n"
     ]
    },
    {
     "name": "stderr",
     "output_type": "stream",
     "text": [
      "/tmp/ipykernel_72641/73920298.py:4: UserWarning: Creating a tensor from a list of numpy.ndarrays is extremely slow. Please consider converting the list to a single numpy.ndarray with numpy.array() before converting to a tensor. (Triggered internally at  /opt/conda/conda-bld/pytorch_1659484775609/work/torch/csrc/utils/tensor_new.cpp:204.)\n",
      "  imgs = torch.tensor([item[0] for item in batch])\n",
      "/tmp/ipykernel_72641/73920298.py:4: UserWarning: Creating a tensor from a list of numpy.ndarrays is extremely slow. Please consider converting the list to a single numpy.ndarray with numpy.array() before converting to a tensor. (Triggered internally at  /opt/conda/conda-bld/pytorch_1659484775609/work/torch/csrc/utils/tensor_new.cpp:204.)\n",
      "  imgs = torch.tensor([item[0] for item in batch])\n",
      " 20%|████████▊                                   | 1/5 [04:06<16:27, 246.81s/it]"
     ]
    },
    {
     "name": "stdout",
     "output_type": "stream",
     "text": [
      "loss test  0.6691758955848379 accuracy test  tensor(0.7827)\n"
     ]
    },
    {
     "name": "stderr",
     "output_type": "stream",
     "text": [
      "/tmp/ipykernel_72641/73920298.py:4: UserWarning: Creating a tensor from a list of numpy.ndarrays is extremely slow. Please consider converting the list to a single numpy.ndarray with numpy.array() before converting to a tensor. (Triggered internally at  /opt/conda/conda-bld/pytorch_1659484775609/work/torch/csrc/utils/tensor_new.cpp:204.)\n",
      "  imgs = torch.tensor([item[0] for item in batch])\n",
      "/tmp/ipykernel_72641/73920298.py:4: UserWarning: Creating a tensor from a list of numpy.ndarrays is extremely slow. Please consider converting the list to a single numpy.ndarray with numpy.array() before converting to a tensor. (Triggered internally at  /opt/conda/conda-bld/pytorch_1659484775609/work/torch/csrc/utils/tensor_new.cpp:204.)\n",
      "  imgs = torch.tensor([item[0] for item in batch])\n"
     ]
    },
    {
     "name": "stdout",
     "output_type": "stream",
     "text": [
      "Epoch - 0 : loss train 1.1378217244109121, accuracy train 0.5185452699661255\n"
     ]
    },
    {
     "name": "stderr",
     "output_type": "stream",
     "text": [
      "/tmp/ipykernel_72641/73920298.py:4: UserWarning: Creating a tensor from a list of numpy.ndarrays is extremely slow. Please consider converting the list to a single numpy.ndarray with numpy.array() before converting to a tensor. (Triggered internally at  /opt/conda/conda-bld/pytorch_1659484775609/work/torch/csrc/utils/tensor_new.cpp:204.)\n",
      "  imgs = torch.tensor([item[0] for item in batch])\n",
      "/tmp/ipykernel_72641/73920298.py:4: UserWarning: Creating a tensor from a list of numpy.ndarrays is extremely slow. Please consider converting the list to a single numpy.ndarray with numpy.array() before converting to a tensor. (Triggered internally at  /opt/conda/conda-bld/pytorch_1659484775609/work/torch/csrc/utils/tensor_new.cpp:204.)\n",
      "  imgs = torch.tensor([item[0] for item in batch])\n"
     ]
    },
    {
     "name": "stdout",
     "output_type": "stream",
     "text": [
      "Epoch - 1 : loss train 0.9346579057571236, accuracy train 0.6104685664176941\n"
     ]
    },
    {
     "name": "stderr",
     "output_type": "stream",
     "text": [
      "/tmp/ipykernel_72641/73920298.py:4: UserWarning: Creating a tensor from a list of numpy.ndarrays is extremely slow. Please consider converting the list to a single numpy.ndarray with numpy.array() before converting to a tensor. (Triggered internally at  /opt/conda/conda-bld/pytorch_1659484775609/work/torch/csrc/utils/tensor_new.cpp:204.)\n",
      "  imgs = torch.tensor([item[0] for item in batch])\n",
      "/tmp/ipykernel_72641/73920298.py:4: UserWarning: Creating a tensor from a list of numpy.ndarrays is extremely slow. Please consider converting the list to a single numpy.ndarray with numpy.array() before converting to a tensor. (Triggered internally at  /opt/conda/conda-bld/pytorch_1659484775609/work/torch/csrc/utils/tensor_new.cpp:204.)\n",
      "  imgs = torch.tensor([item[0] for item in batch])\n"
     ]
    },
    {
     "name": "stdout",
     "output_type": "stream",
     "text": [
      "Epoch - 2 : loss train 0.9102981209885905, accuracy train 0.6266032457351685\n"
     ]
    },
    {
     "name": "stderr",
     "output_type": "stream",
     "text": [
      "/tmp/ipykernel_72641/73920298.py:4: UserWarning: Creating a tensor from a list of numpy.ndarrays is extremely slow. Please consider converting the list to a single numpy.ndarray with numpy.array() before converting to a tensor. (Triggered internally at  /opt/conda/conda-bld/pytorch_1659484775609/work/torch/csrc/utils/tensor_new.cpp:204.)\n",
      "  imgs = torch.tensor([item[0] for item in batch])\n",
      "/tmp/ipykernel_72641/73920298.py:4: UserWarning: Creating a tensor from a list of numpy.ndarrays is extremely slow. Please consider converting the list to a single numpy.ndarray with numpy.array() before converting to a tensor. (Triggered internally at  /opt/conda/conda-bld/pytorch_1659484775609/work/torch/csrc/utils/tensor_new.cpp:204.)\n",
      "  imgs = torch.tensor([item[0] for item in batch])\n"
     ]
    },
    {
     "name": "stdout",
     "output_type": "stream",
     "text": [
      "loss test  1.2425857050627633 accuracy test  tensor(0.4902)\n"
     ]
    },
    {
     "name": "stderr",
     "output_type": "stream",
     "text": [
      "/tmp/ipykernel_72641/73920298.py:4: UserWarning: Creating a tensor from a list of numpy.ndarrays is extremely slow. Please consider converting the list to a single numpy.ndarray with numpy.array() before converting to a tensor. (Triggered internally at  /opt/conda/conda-bld/pytorch_1659484775609/work/torch/csrc/utils/tensor_new.cpp:204.)\n",
      "  imgs = torch.tensor([item[0] for item in batch])\n",
      "/tmp/ipykernel_72641/73920298.py:4: UserWarning: Creating a tensor from a list of numpy.ndarrays is extremely slow. Please consider converting the list to a single numpy.ndarray with numpy.array() before converting to a tensor. (Triggered internally at  /opt/conda/conda-bld/pytorch_1659484775609/work/torch/csrc/utils/tensor_new.cpp:204.)\n",
      "  imgs = torch.tensor([item[0] for item in batch])\n"
     ]
    },
    {
     "name": "stdout",
     "output_type": "stream",
     "text": [
      "Epoch - 0 : loss train 1.3801090380854044, accuracy train 0.42796626687049866\n"
     ]
    },
    {
     "name": "stderr",
     "output_type": "stream",
     "text": [
      "/tmp/ipykernel_72641/73920298.py:4: UserWarning: Creating a tensor from a list of numpy.ndarrays is extremely slow. Please consider converting the list to a single numpy.ndarray with numpy.array() before converting to a tensor. (Triggered internally at  /opt/conda/conda-bld/pytorch_1659484775609/work/torch/csrc/utils/tensor_new.cpp:204.)\n",
      "  imgs = torch.tensor([item[0] for item in batch])\n",
      "/tmp/ipykernel_72641/73920298.py:4: UserWarning: Creating a tensor from a list of numpy.ndarrays is extremely slow. Please consider converting the list to a single numpy.ndarray with numpy.array() before converting to a tensor. (Triggered internally at  /opt/conda/conda-bld/pytorch_1659484775609/work/torch/csrc/utils/tensor_new.cpp:204.)\n",
      "  imgs = torch.tensor([item[0] for item in batch])\n"
     ]
    },
    {
     "name": "stdout",
     "output_type": "stream",
     "text": [
      "Epoch - 1 : loss train 1.0961744026432523, accuracy train 0.5305808782577515\n"
     ]
    },
    {
     "name": "stderr",
     "output_type": "stream",
     "text": [
      "/tmp/ipykernel_72641/73920298.py:4: UserWarning: Creating a tensor from a list of numpy.ndarrays is extremely slow. Please consider converting the list to a single numpy.ndarray with numpy.array() before converting to a tensor. (Triggered internally at  /opt/conda/conda-bld/pytorch_1659484775609/work/torch/csrc/utils/tensor_new.cpp:204.)\n",
      "  imgs = torch.tensor([item[0] for item in batch])\n",
      "/tmp/ipykernel_72641/73920298.py:4: UserWarning: Creating a tensor from a list of numpy.ndarrays is extremely slow. Please consider converting the list to a single numpy.ndarray with numpy.array() before converting to a tensor. (Triggered internally at  /opt/conda/conda-bld/pytorch_1659484775609/work/torch/csrc/utils/tensor_new.cpp:204.)\n",
      "  imgs = torch.tensor([item[0] for item in batch])\n"
     ]
    },
    {
     "name": "stdout",
     "output_type": "stream",
     "text": [
      "Epoch - 2 : loss train 1.061402166984586, accuracy train 0.5434309840202332\n"
     ]
    },
    {
     "name": "stderr",
     "output_type": "stream",
     "text": [
      "/tmp/ipykernel_72641/73920298.py:4: UserWarning: Creating a tensor from a list of numpy.ndarrays is extremely slow. Please consider converting the list to a single numpy.ndarray with numpy.array() before converting to a tensor. (Triggered internally at  /opt/conda/conda-bld/pytorch_1659484775609/work/torch/csrc/utils/tensor_new.cpp:204.)\n",
      "  imgs = torch.tensor([item[0] for item in batch])\n",
      "/tmp/ipykernel_72641/73920298.py:4: UserWarning: Creating a tensor from a list of numpy.ndarrays is extremely slow. Please consider converting the list to a single numpy.ndarray with numpy.array() before converting to a tensor. (Triggered internally at  /opt/conda/conda-bld/pytorch_1659484775609/work/torch/csrc/utils/tensor_new.cpp:204.)\n",
      "  imgs = torch.tensor([item[0] for item in batch])\n"
     ]
    },
    {
     "name": "stdout",
     "output_type": "stream",
     "text": [
      "Epoch - 3 : loss train 1.0239919080249322, accuracy train 0.5599806904792786\n"
     ]
    },
    {
     "name": "stderr",
     "output_type": "stream",
     "text": [
      "/tmp/ipykernel_72641/73920298.py:4: UserWarning: Creating a tensor from a list of numpy.ndarrays is extremely slow. Please consider converting the list to a single numpy.ndarray with numpy.array() before converting to a tensor. (Triggered internally at  /opt/conda/conda-bld/pytorch_1659484775609/work/torch/csrc/utils/tensor_new.cpp:204.)\n",
      "  imgs = torch.tensor([item[0] for item in batch])\n",
      "/tmp/ipykernel_72641/73920298.py:4: UserWarning: Creating a tensor from a list of numpy.ndarrays is extremely slow. Please consider converting the list to a single numpy.ndarray with numpy.array() before converting to a tensor. (Triggered internally at  /opt/conda/conda-bld/pytorch_1659484775609/work/torch/csrc/utils/tensor_new.cpp:204.)\n",
      "  imgs = torch.tensor([item[0] for item in batch])\n"
     ]
    },
    {
     "name": "stdout",
     "output_type": "stream",
     "text": [
      "Epoch - 4 : loss train 1.022826481515917, accuracy train 0.5651648640632629\n"
     ]
    },
    {
     "name": "stderr",
     "output_type": "stream",
     "text": [
      "/tmp/ipykernel_72641/73920298.py:4: UserWarning: Creating a tensor from a list of numpy.ndarrays is extremely slow. Please consider converting the list to a single numpy.ndarray with numpy.array() before converting to a tensor. (Triggered internally at  /opt/conda/conda-bld/pytorch_1659484775609/work/torch/csrc/utils/tensor_new.cpp:204.)\n",
      "  imgs = torch.tensor([item[0] for item in batch])\n",
      "/tmp/ipykernel_72641/73920298.py:4: UserWarning: Creating a tensor from a list of numpy.ndarrays is extremely slow. Please consider converting the list to a single numpy.ndarray with numpy.array() before converting to a tensor. (Triggered internally at  /opt/conda/conda-bld/pytorch_1659484775609/work/torch/csrc/utils/tensor_new.cpp:204.)\n",
      "  imgs = torch.tensor([item[0] for item in batch])\n"
     ]
    },
    {
     "name": "stdout",
     "output_type": "stream",
     "text": [
      "loss test  1.3368951120999641 accuracy test  tensor(0.4270)\n"
     ]
    },
    {
     "name": "stderr",
     "output_type": "stream",
     "text": [
      "/tmp/ipykernel_72641/73920298.py:4: UserWarning: Creating a tensor from a list of numpy.ndarrays is extremely slow. Please consider converting the list to a single numpy.ndarray with numpy.array() before converting to a tensor. (Triggered internally at  /opt/conda/conda-bld/pytorch_1659484775609/work/torch/csrc/utils/tensor_new.cpp:204.)\n",
      "  imgs = torch.tensor([item[0] for item in batch])\n",
      "/tmp/ipykernel_72641/73920298.py:4: UserWarning: Creating a tensor from a list of numpy.ndarrays is extremely slow. Please consider converting the list to a single numpy.ndarray with numpy.array() before converting to a tensor. (Triggered internally at  /opt/conda/conda-bld/pytorch_1659484775609/work/torch/csrc/utils/tensor_new.cpp:204.)\n",
      "  imgs = torch.tensor([item[0] for item in batch])\n"
     ]
    },
    {
     "name": "stdout",
     "output_type": "stream",
     "text": [
      "Epoch - 0 : loss train 1.2081003036418958, accuracy train 0.49639594554901123\n"
     ]
    },
    {
     "name": "stderr",
     "output_type": "stream",
     "text": [
      "/tmp/ipykernel_72641/73920298.py:4: UserWarning: Creating a tensor from a list of numpy.ndarrays is extremely slow. Please consider converting the list to a single numpy.ndarray with numpy.array() before converting to a tensor. (Triggered internally at  /opt/conda/conda-bld/pytorch_1659484775609/work/torch/csrc/utils/tensor_new.cpp:204.)\n",
      "  imgs = torch.tensor([item[0] for item in batch])\n",
      "/tmp/ipykernel_72641/73920298.py:4: UserWarning: Creating a tensor from a list of numpy.ndarrays is extremely slow. Please consider converting the list to a single numpy.ndarray with numpy.array() before converting to a tensor. (Triggered internally at  /opt/conda/conda-bld/pytorch_1659484775609/work/torch/csrc/utils/tensor_new.cpp:204.)\n",
      "  imgs = torch.tensor([item[0] for item in batch])\n"
     ]
    },
    {
     "name": "stdout",
     "output_type": "stream",
     "text": [
      "Epoch - 1 : loss train 0.9801318044116518, accuracy train 0.6128356456756592\n"
     ]
    },
    {
     "name": "stderr",
     "output_type": "stream",
     "text": [
      "/tmp/ipykernel_72641/73920298.py:4: UserWarning: Creating a tensor from a list of numpy.ndarrays is extremely slow. Please consider converting the list to a single numpy.ndarray with numpy.array() before converting to a tensor. (Triggered internally at  /opt/conda/conda-bld/pytorch_1659484775609/work/torch/csrc/utils/tensor_new.cpp:204.)\n",
      "  imgs = torch.tensor([item[0] for item in batch])\n",
      "/tmp/ipykernel_72641/73920298.py:4: UserWarning: Creating a tensor from a list of numpy.ndarrays is extremely slow. Please consider converting the list to a single numpy.ndarray with numpy.array() before converting to a tensor. (Triggered internally at  /opt/conda/conda-bld/pytorch_1659484775609/work/torch/csrc/utils/tensor_new.cpp:204.)\n",
      "  imgs = torch.tensor([item[0] for item in batch])\n"
     ]
    },
    {
     "name": "stdout",
     "output_type": "stream",
     "text": [
      "Epoch - 2 : loss train 0.9379491077640448, accuracy train 0.6421876549720764\n"
     ]
    },
    {
     "name": "stderr",
     "output_type": "stream",
     "text": [
      "/tmp/ipykernel_72641/73920298.py:4: UserWarning: Creating a tensor from a list of numpy.ndarrays is extremely slow. Please consider converting the list to a single numpy.ndarray with numpy.array() before converting to a tensor. (Triggered internally at  /opt/conda/conda-bld/pytorch_1659484775609/work/torch/csrc/utils/tensor_new.cpp:204.)\n",
      "  imgs = torch.tensor([item[0] for item in batch])\n",
      "/tmp/ipykernel_72641/73920298.py:4: UserWarning: Creating a tensor from a list of numpy.ndarrays is extremely slow. Please consider converting the list to a single numpy.ndarray with numpy.array() before converting to a tensor. (Triggered internally at  /opt/conda/conda-bld/pytorch_1659484775609/work/torch/csrc/utils/tensor_new.cpp:204.)\n",
      "  imgs = torch.tensor([item[0] for item in batch])\n"
     ]
    },
    {
     "name": "stdout",
     "output_type": "stream",
     "text": [
      "Epoch - 3 : loss train 0.9213201800991837, accuracy train 0.6498891711235046\n"
     ]
    },
    {
     "name": "stderr",
     "output_type": "stream",
     "text": [
      "/tmp/ipykernel_72641/73920298.py:4: UserWarning: Creating a tensor from a list of numpy.ndarrays is extremely slow. Please consider converting the list to a single numpy.ndarray with numpy.array() before converting to a tensor. (Triggered internally at  /opt/conda/conda-bld/pytorch_1659484775609/work/torch/csrc/utils/tensor_new.cpp:204.)\n",
      "  imgs = torch.tensor([item[0] for item in batch])\n",
      "/tmp/ipykernel_72641/73920298.py:4: UserWarning: Creating a tensor from a list of numpy.ndarrays is extremely slow. Please consider converting the list to a single numpy.ndarray with numpy.array() before converting to a tensor. (Triggered internally at  /opt/conda/conda-bld/pytorch_1659484775609/work/torch/csrc/utils/tensor_new.cpp:204.)\n",
      "  imgs = torch.tensor([item[0] for item in batch])\n"
     ]
    },
    {
     "name": "stdout",
     "output_type": "stream",
     "text": [
      "Epoch - 4 : loss train 0.9009210278379324, accuracy train 0.6575567126274109\n"
     ]
    },
    {
     "name": "stderr",
     "output_type": "stream",
     "text": [
      "/tmp/ipykernel_72641/73920298.py:4: UserWarning: Creating a tensor from a list of numpy.ndarrays is extremely slow. Please consider converting the list to a single numpy.ndarray with numpy.array() before converting to a tensor. (Triggered internally at  /opt/conda/conda-bld/pytorch_1659484775609/work/torch/csrc/utils/tensor_new.cpp:204.)\n",
      "  imgs = torch.tensor([item[0] for item in batch])\n",
      "/tmp/ipykernel_72641/73920298.py:4: UserWarning: Creating a tensor from a list of numpy.ndarrays is extremely slow. Please consider converting the list to a single numpy.ndarray with numpy.array() before converting to a tensor. (Triggered internally at  /opt/conda/conda-bld/pytorch_1659484775609/work/torch/csrc/utils/tensor_new.cpp:204.)\n",
      "  imgs = torch.tensor([item[0] for item in batch])\n"
     ]
    },
    {
     "name": "stdout",
     "output_type": "stream",
     "text": [
      "Epoch - 5 : loss train 0.903756261679017, accuracy train 0.6644905209541321\n"
     ]
    },
    {
     "name": "stderr",
     "output_type": "stream",
     "text": [
      "/tmp/ipykernel_72641/73920298.py:4: UserWarning: Creating a tensor from a list of numpy.ndarrays is extremely slow. Please consider converting the list to a single numpy.ndarray with numpy.array() before converting to a tensor. (Triggered internally at  /opt/conda/conda-bld/pytorch_1659484775609/work/torch/csrc/utils/tensor_new.cpp:204.)\n",
      "  imgs = torch.tensor([item[0] for item in batch])\n",
      "/tmp/ipykernel_72641/73920298.py:4: UserWarning: Creating a tensor from a list of numpy.ndarrays is extremely slow. Please consider converting the list to a single numpy.ndarray with numpy.array() before converting to a tensor. (Triggered internally at  /opt/conda/conda-bld/pytorch_1659484775609/work/torch/csrc/utils/tensor_new.cpp:204.)\n",
      "  imgs = torch.tensor([item[0] for item in batch])\n"
     ]
    },
    {
     "name": "stdout",
     "output_type": "stream",
     "text": [
      "Epoch - 6 : loss train 0.9015644624600552, accuracy train 0.6658404469490051\n"
     ]
    },
    {
     "name": "stderr",
     "output_type": "stream",
     "text": [
      "/tmp/ipykernel_72641/73920298.py:4: UserWarning: Creating a tensor from a list of numpy.ndarrays is extremely slow. Please consider converting the list to a single numpy.ndarray with numpy.array() before converting to a tensor. (Triggered internally at  /opt/conda/conda-bld/pytorch_1659484775609/work/torch/csrc/utils/tensor_new.cpp:204.)\n",
      "  imgs = torch.tensor([item[0] for item in batch])\n",
      "/tmp/ipykernel_72641/73920298.py:4: UserWarning: Creating a tensor from a list of numpy.ndarrays is extremely slow. Please consider converting the list to a single numpy.ndarray with numpy.array() before converting to a tensor. (Triggered internally at  /opt/conda/conda-bld/pytorch_1659484775609/work/torch/csrc/utils/tensor_new.cpp:204.)\n",
      "  imgs = torch.tensor([item[0] for item in batch])\n"
     ]
    },
    {
     "name": "stdout",
     "output_type": "stream",
     "text": [
      "Epoch - 7 : loss train 0.884336340743345, accuracy train 0.6761084198951721\n"
     ]
    },
    {
     "name": "stderr",
     "output_type": "stream",
     "text": [
      "/tmp/ipykernel_72641/73920298.py:4: UserWarning: Creating a tensor from a list of numpy.ndarrays is extremely slow. Please consider converting the list to a single numpy.ndarray with numpy.array() before converting to a tensor. (Triggered internally at  /opt/conda/conda-bld/pytorch_1659484775609/work/torch/csrc/utils/tensor_new.cpp:204.)\n",
      "  imgs = torch.tensor([item[0] for item in batch])\n",
      "/tmp/ipykernel_72641/73920298.py:4: UserWarning: Creating a tensor from a list of numpy.ndarrays is extremely slow. Please consider converting the list to a single numpy.ndarray with numpy.array() before converting to a tensor. (Triggered internally at  /opt/conda/conda-bld/pytorch_1659484775609/work/torch/csrc/utils/tensor_new.cpp:204.)\n",
      "  imgs = torch.tensor([item[0] for item in batch])\n"
     ]
    },
    {
     "name": "stdout",
     "output_type": "stream",
     "text": [
      "Epoch - 8 : loss train 0.8639504683080902, accuracy train 0.686259388923645\n"
     ]
    },
    {
     "name": "stderr",
     "output_type": "stream",
     "text": [
      "/tmp/ipykernel_72641/73920298.py:4: UserWarning: Creating a tensor from a list of numpy.ndarrays is extremely slow. Please consider converting the list to a single numpy.ndarray with numpy.array() before converting to a tensor. (Triggered internally at  /opt/conda/conda-bld/pytorch_1659484775609/work/torch/csrc/utils/tensor_new.cpp:204.)\n",
      "  imgs = torch.tensor([item[0] for item in batch])\n",
      "/tmp/ipykernel_72641/73920298.py:4: UserWarning: Creating a tensor from a list of numpy.ndarrays is extremely slow. Please consider converting the list to a single numpy.ndarray with numpy.array() before converting to a tensor. (Triggered internally at  /opt/conda/conda-bld/pytorch_1659484775609/work/torch/csrc/utils/tensor_new.cpp:204.)\n",
      "  imgs = torch.tensor([item[0] for item in batch])\n"
     ]
    },
    {
     "name": "stdout",
     "output_type": "stream",
     "text": [
      "Epoch - 9 : loss train 0.8577321657583139, accuracy train 0.6861262917518616\n"
     ]
    },
    {
     "name": "stderr",
     "output_type": "stream",
     "text": [
      "/tmp/ipykernel_72641/73920298.py:4: UserWarning: Creating a tensor from a list of numpy.ndarrays is extremely slow. Please consider converting the list to a single numpy.ndarray with numpy.array() before converting to a tensor. (Triggered internally at  /opt/conda/conda-bld/pytorch_1659484775609/work/torch/csrc/utils/tensor_new.cpp:204.)\n",
      "  imgs = torch.tensor([item[0] for item in batch])\n",
      "/tmp/ipykernel_72641/73920298.py:4: UserWarning: Creating a tensor from a list of numpy.ndarrays is extremely slow. Please consider converting the list to a single numpy.ndarray with numpy.array() before converting to a tensor. (Triggered internally at  /opt/conda/conda-bld/pytorch_1659484775609/work/torch/csrc/utils/tensor_new.cpp:204.)\n",
      "  imgs = torch.tensor([item[0] for item in batch])\n",
      " 40%|█████████████████▌                          | 2/5 [08:56<13:36, 272.02s/it]"
     ]
    },
    {
     "name": "stdout",
     "output_type": "stream",
     "text": [
      "loss test  1.1911551470846349 accuracy test  tensor(0.5135)\n"
     ]
    },
    {
     "name": "stderr",
     "output_type": "stream",
     "text": [
      "/tmp/ipykernel_72641/73920298.py:4: UserWarning: Creating a tensor from a list of numpy.ndarrays is extremely slow. Please consider converting the list to a single numpy.ndarray with numpy.array() before converting to a tensor. (Triggered internally at  /opt/conda/conda-bld/pytorch_1659484775609/work/torch/csrc/utils/tensor_new.cpp:204.)\n",
      "  imgs = torch.tensor([item[0] for item in batch])\n",
      "/tmp/ipykernel_72641/73920298.py:4: UserWarning: Creating a tensor from a list of numpy.ndarrays is extremely slow. Please consider converting the list to a single numpy.ndarray with numpy.array() before converting to a tensor. (Triggered internally at  /opt/conda/conda-bld/pytorch_1659484775609/work/torch/csrc/utils/tensor_new.cpp:204.)\n",
      "  imgs = torch.tensor([item[0] for item in batch])\n"
     ]
    },
    {
     "name": "stdout",
     "output_type": "stream",
     "text": [
      "Epoch - 0 : loss train 1.3651542204754192, accuracy train 0.43678268790245056\n"
     ]
    },
    {
     "name": "stderr",
     "output_type": "stream",
     "text": [
      "/tmp/ipykernel_72641/73920298.py:4: UserWarning: Creating a tensor from a list of numpy.ndarrays is extremely slow. Please consider converting the list to a single numpy.ndarray with numpy.array() before converting to a tensor. (Triggered internally at  /opt/conda/conda-bld/pytorch_1659484775609/work/torch/csrc/utils/tensor_new.cpp:204.)\n",
      "  imgs = torch.tensor([item[0] for item in batch])\n",
      "/tmp/ipykernel_72641/73920298.py:4: UserWarning: Creating a tensor from a list of numpy.ndarrays is extremely slow. Please consider converting the list to a single numpy.ndarray with numpy.array() before converting to a tensor. (Triggered internally at  /opt/conda/conda-bld/pytorch_1659484775609/work/torch/csrc/utils/tensor_new.cpp:204.)\n",
      "  imgs = torch.tensor([item[0] for item in batch])\n"
     ]
    },
    {
     "name": "stdout",
     "output_type": "stream",
     "text": [
      "Epoch - 1 : loss train 1.0862606268313562, accuracy train 0.5496472716331482\n"
     ]
    },
    {
     "name": "stderr",
     "output_type": "stream",
     "text": [
      "/tmp/ipykernel_72641/73920298.py:4: UserWarning: Creating a tensor from a list of numpy.ndarrays is extremely slow. Please consider converting the list to a single numpy.ndarray with numpy.array() before converting to a tensor. (Triggered internally at  /opt/conda/conda-bld/pytorch_1659484775609/work/torch/csrc/utils/tensor_new.cpp:204.)\n",
      "  imgs = torch.tensor([item[0] for item in batch])\n",
      "/tmp/ipykernel_72641/73920298.py:4: UserWarning: Creating a tensor from a list of numpy.ndarrays is extremely slow. Please consider converting the list to a single numpy.ndarray with numpy.array() before converting to a tensor. (Triggered internally at  /opt/conda/conda-bld/pytorch_1659484775609/work/torch/csrc/utils/tensor_new.cpp:204.)\n",
      "  imgs = torch.tensor([item[0] for item in batch])\n"
     ]
    },
    {
     "name": "stdout",
     "output_type": "stream",
     "text": [
      "Epoch - 2 : loss train 1.0423419650898638, accuracy train 0.5710151791572571\n"
     ]
    },
    {
     "name": "stderr",
     "output_type": "stream",
     "text": [
      "/tmp/ipykernel_72641/73920298.py:4: UserWarning: Creating a tensor from a list of numpy.ndarrays is extremely slow. Please consider converting the list to a single numpy.ndarray with numpy.array() before converting to a tensor. (Triggered internally at  /opt/conda/conda-bld/pytorch_1659484775609/work/torch/csrc/utils/tensor_new.cpp:204.)\n",
      "  imgs = torch.tensor([item[0] for item in batch])\n",
      "/tmp/ipykernel_72641/73920298.py:4: UserWarning: Creating a tensor from a list of numpy.ndarrays is extremely slow. Please consider converting the list to a single numpy.ndarray with numpy.array() before converting to a tensor. (Triggered internally at  /opt/conda/conda-bld/pytorch_1659484775609/work/torch/csrc/utils/tensor_new.cpp:204.)\n",
      "  imgs = torch.tensor([item[0] for item in batch])\n"
     ]
    },
    {
     "name": "stdout",
     "output_type": "stream",
     "text": [
      "loss test  1.6084282586812106 accuracy test  tensor(0.3506)\n"
     ]
    },
    {
     "name": "stderr",
     "output_type": "stream",
     "text": [
      "/tmp/ipykernel_72641/73920298.py:4: UserWarning: Creating a tensor from a list of numpy.ndarrays is extremely slow. Please consider converting the list to a single numpy.ndarray with numpy.array() before converting to a tensor. (Triggered internally at  /opt/conda/conda-bld/pytorch_1659484775609/work/torch/csrc/utils/tensor_new.cpp:204.)\n",
      "  imgs = torch.tensor([item[0] for item in batch])\n",
      "/tmp/ipykernel_72641/73920298.py:4: UserWarning: Creating a tensor from a list of numpy.ndarrays is extremely slow. Please consider converting the list to a single numpy.ndarray with numpy.array() before converting to a tensor. (Triggered internally at  /opt/conda/conda-bld/pytorch_1659484775609/work/torch/csrc/utils/tensor_new.cpp:204.)\n",
      "  imgs = torch.tensor([item[0] for item in batch])\n"
     ]
    },
    {
     "name": "stdout",
     "output_type": "stream",
     "text": [
      "Epoch - 0 : loss train 1.4931254135690735, accuracy train 0.3672538101673126\n"
     ]
    },
    {
     "name": "stderr",
     "output_type": "stream",
     "text": [
      "/tmp/ipykernel_72641/73920298.py:4: UserWarning: Creating a tensor from a list of numpy.ndarrays is extremely slow. Please consider converting the list to a single numpy.ndarray with numpy.array() before converting to a tensor. (Triggered internally at  /opt/conda/conda-bld/pytorch_1659484775609/work/torch/csrc/utils/tensor_new.cpp:204.)\n",
      "  imgs = torch.tensor([item[0] for item in batch])\n",
      "/tmp/ipykernel_72641/73920298.py:4: UserWarning: Creating a tensor from a list of numpy.ndarrays is extremely slow. Please consider converting the list to a single numpy.ndarray with numpy.array() before converting to a tensor. (Triggered internally at  /opt/conda/conda-bld/pytorch_1659484775609/work/torch/csrc/utils/tensor_new.cpp:204.)\n",
      "  imgs = torch.tensor([item[0] for item in batch])\n"
     ]
    },
    {
     "name": "stdout",
     "output_type": "stream",
     "text": [
      "Epoch - 1 : loss train 1.2576059913952744, accuracy train 0.44038692116737366\n"
     ]
    },
    {
     "name": "stderr",
     "output_type": "stream",
     "text": [
      "/tmp/ipykernel_72641/73920298.py:4: UserWarning: Creating a tensor from a list of numpy.ndarrays is extremely slow. Please consider converting the list to a single numpy.ndarray with numpy.array() before converting to a tensor. (Triggered internally at  /opt/conda/conda-bld/pytorch_1659484775609/work/torch/csrc/utils/tensor_new.cpp:204.)\n",
      "  imgs = torch.tensor([item[0] for item in batch])\n",
      "/tmp/ipykernel_72641/73920298.py:4: UserWarning: Creating a tensor from a list of numpy.ndarrays is extremely slow. Please consider converting the list to a single numpy.ndarray with numpy.array() before converting to a tensor. (Triggered internally at  /opt/conda/conda-bld/pytorch_1659484775609/work/torch/csrc/utils/tensor_new.cpp:204.)\n",
      "  imgs = torch.tensor([item[0] for item in batch])\n"
     ]
    },
    {
     "name": "stdout",
     "output_type": "stream",
     "text": [
      "Epoch - 2 : loss train 1.2298312198218135, accuracy train 0.4466703534126282\n"
     ]
    },
    {
     "name": "stderr",
     "output_type": "stream",
     "text": [
      "/tmp/ipykernel_72641/73920298.py:4: UserWarning: Creating a tensor from a list of numpy.ndarrays is extremely slow. Please consider converting the list to a single numpy.ndarray with numpy.array() before converting to a tensor. (Triggered internally at  /opt/conda/conda-bld/pytorch_1659484775609/work/torch/csrc/utils/tensor_new.cpp:204.)\n",
      "  imgs = torch.tensor([item[0] for item in batch])\n",
      "/tmp/ipykernel_72641/73920298.py:4: UserWarning: Creating a tensor from a list of numpy.ndarrays is extremely slow. Please consider converting the list to a single numpy.ndarray with numpy.array() before converting to a tensor. (Triggered internally at  /opt/conda/conda-bld/pytorch_1659484775609/work/torch/csrc/utils/tensor_new.cpp:204.)\n",
      "  imgs = torch.tensor([item[0] for item in batch])\n"
     ]
    },
    {
     "name": "stdout",
     "output_type": "stream",
     "text": [
      "Epoch - 3 : loss train 1.226520319595855, accuracy train 0.4524030387401581\n"
     ]
    },
    {
     "name": "stderr",
     "output_type": "stream",
     "text": [
      "/tmp/ipykernel_72641/73920298.py:4: UserWarning: Creating a tensor from a list of numpy.ndarrays is extremely slow. Please consider converting the list to a single numpy.ndarray with numpy.array() before converting to a tensor. (Triggered internally at  /opt/conda/conda-bld/pytorch_1659484775609/work/torch/csrc/utils/tensor_new.cpp:204.)\n",
      "  imgs = torch.tensor([item[0] for item in batch])\n",
      "/tmp/ipykernel_72641/73920298.py:4: UserWarning: Creating a tensor from a list of numpy.ndarrays is extremely slow. Please consider converting the list to a single numpy.ndarray with numpy.array() before converting to a tensor. (Triggered internally at  /opt/conda/conda-bld/pytorch_1659484775609/work/torch/csrc/utils/tensor_new.cpp:204.)\n",
      "  imgs = torch.tensor([item[0] for item in batch])\n"
     ]
    },
    {
     "name": "stdout",
     "output_type": "stream",
     "text": [
      "Epoch - 4 : loss train 1.2158578817914814, accuracy train 0.4546363651752472\n"
     ]
    },
    {
     "name": "stderr",
     "output_type": "stream",
     "text": [
      "/tmp/ipykernel_72641/73920298.py:4: UserWarning: Creating a tensor from a list of numpy.ndarrays is extremely slow. Please consider converting the list to a single numpy.ndarray with numpy.array() before converting to a tensor. (Triggered internally at  /opt/conda/conda-bld/pytorch_1659484775609/work/torch/csrc/utils/tensor_new.cpp:204.)\n",
      "  imgs = torch.tensor([item[0] for item in batch])\n",
      "/tmp/ipykernel_72641/73920298.py:4: UserWarning: Creating a tensor from a list of numpy.ndarrays is extremely slow. Please consider converting the list to a single numpy.ndarray with numpy.array() before converting to a tensor. (Triggered internally at  /opt/conda/conda-bld/pytorch_1659484775609/work/torch/csrc/utils/tensor_new.cpp:204.)\n",
      "  imgs = torch.tensor([item[0] for item in batch])\n"
     ]
    },
    {
     "name": "stdout",
     "output_type": "stream",
     "text": [
      "loss test  1.633260749251859 accuracy test  tensor(0.3195)\n"
     ]
    },
    {
     "name": "stderr",
     "output_type": "stream",
     "text": [
      "/tmp/ipykernel_72641/73920298.py:4: UserWarning: Creating a tensor from a list of numpy.ndarrays is extremely slow. Please consider converting the list to a single numpy.ndarray with numpy.array() before converting to a tensor. (Triggered internally at  /opt/conda/conda-bld/pytorch_1659484775609/work/torch/csrc/utils/tensor_new.cpp:204.)\n",
      "  imgs = torch.tensor([item[0] for item in batch])\n",
      "/tmp/ipykernel_72641/73920298.py:4: UserWarning: Creating a tensor from a list of numpy.ndarrays is extremely slow. Please consider converting the list to a single numpy.ndarray with numpy.array() before converting to a tensor. (Triggered internally at  /opt/conda/conda-bld/pytorch_1659484775609/work/torch/csrc/utils/tensor_new.cpp:204.)\n",
      "  imgs = torch.tensor([item[0] for item in batch])\n"
     ]
    },
    {
     "name": "stdout",
     "output_type": "stream",
     "text": [
      "Epoch - 0 : loss train 1.3601910729577735, accuracy train 0.4353152811527252\n"
     ]
    },
    {
     "name": "stderr",
     "output_type": "stream",
     "text": [
      "/tmp/ipykernel_72641/73920298.py:4: UserWarning: Creating a tensor from a list of numpy.ndarrays is extremely slow. Please consider converting the list to a single numpy.ndarray with numpy.array() before converting to a tensor. (Triggered internally at  /opt/conda/conda-bld/pytorch_1659484775609/work/torch/csrc/utils/tensor_new.cpp:204.)\n",
      "  imgs = torch.tensor([item[0] for item in batch])\n",
      "/tmp/ipykernel_72641/73920298.py:4: UserWarning: Creating a tensor from a list of numpy.ndarrays is extremely slow. Please consider converting the list to a single numpy.ndarray with numpy.array() before converting to a tensor. (Triggered internally at  /opt/conda/conda-bld/pytorch_1659484775609/work/torch/csrc/utils/tensor_new.cpp:204.)\n",
      "  imgs = torch.tensor([item[0] for item in batch])\n"
     ]
    },
    {
     "name": "stdout",
     "output_type": "stream",
     "text": [
      "Epoch - 1 : loss train 1.0901284278446977, accuracy train 0.5590991973876953\n"
     ]
    },
    {
     "name": "stderr",
     "output_type": "stream",
     "text": [
      "/tmp/ipykernel_72641/73920298.py:4: UserWarning: Creating a tensor from a list of numpy.ndarrays is extremely slow. Please consider converting the list to a single numpy.ndarray with numpy.array() before converting to a tensor. (Triggered internally at  /opt/conda/conda-bld/pytorch_1659484775609/work/torch/csrc/utils/tensor_new.cpp:204.)\n",
      "  imgs = torch.tensor([item[0] for item in batch])\n",
      "/tmp/ipykernel_72641/73920298.py:4: UserWarning: Creating a tensor from a list of numpy.ndarrays is extremely slow. Please consider converting the list to a single numpy.ndarray with numpy.array() before converting to a tensor. (Triggered internally at  /opt/conda/conda-bld/pytorch_1659484775609/work/torch/csrc/utils/tensor_new.cpp:204.)\n",
      "  imgs = torch.tensor([item[0] for item in batch])\n"
     ]
    },
    {
     "name": "stdout",
     "output_type": "stream",
     "text": [
      "Epoch - 2 : loss train 1.0460655036535342, accuracy train 0.5786985754966736\n"
     ]
    },
    {
     "name": "stderr",
     "output_type": "stream",
     "text": [
      "/tmp/ipykernel_72641/73920298.py:4: UserWarning: Creating a tensor from a list of numpy.ndarrays is extremely slow. Please consider converting the list to a single numpy.ndarray with numpy.array() before converting to a tensor. (Triggered internally at  /opt/conda/conda-bld/pytorch_1659484775609/work/torch/csrc/utils/tensor_new.cpp:204.)\n",
      "  imgs = torch.tensor([item[0] for item in batch])\n",
      "/tmp/ipykernel_72641/73920298.py:4: UserWarning: Creating a tensor from a list of numpy.ndarrays is extremely slow. Please consider converting the list to a single numpy.ndarray with numpy.array() before converting to a tensor. (Triggered internally at  /opt/conda/conda-bld/pytorch_1659484775609/work/torch/csrc/utils/tensor_new.cpp:204.)\n",
      "  imgs = torch.tensor([item[0] for item in batch])\n"
     ]
    },
    {
     "name": "stdout",
     "output_type": "stream",
     "text": [
      "Epoch - 3 : loss train 1.0157890669316814, accuracy train 0.5887171626091003\n"
     ]
    },
    {
     "name": "stderr",
     "output_type": "stream",
     "text": [
      "/tmp/ipykernel_72641/73920298.py:4: UserWarning: Creating a tensor from a list of numpy.ndarrays is extremely slow. Please consider converting the list to a single numpy.ndarray with numpy.array() before converting to a tensor. (Triggered internally at  /opt/conda/conda-bld/pytorch_1659484775609/work/torch/csrc/utils/tensor_new.cpp:204.)\n",
      "  imgs = torch.tensor([item[0] for item in batch])\n",
      "/tmp/ipykernel_72641/73920298.py:4: UserWarning: Creating a tensor from a list of numpy.ndarrays is extremely slow. Please consider converting the list to a single numpy.ndarray with numpy.array() before converting to a tensor. (Triggered internally at  /opt/conda/conda-bld/pytorch_1659484775609/work/torch/csrc/utils/tensor_new.cpp:204.)\n",
      "  imgs = torch.tensor([item[0] for item in batch])\n"
     ]
    },
    {
     "name": "stdout",
     "output_type": "stream",
     "text": [
      "Epoch - 4 : loss train 1.0390801824999032, accuracy train 0.572950005531311\n"
     ]
    },
    {
     "name": "stderr",
     "output_type": "stream",
     "text": [
      "/tmp/ipykernel_72641/73920298.py:4: UserWarning: Creating a tensor from a list of numpy.ndarrays is extremely slow. Please consider converting the list to a single numpy.ndarray with numpy.array() before converting to a tensor. (Triggered internally at  /opt/conda/conda-bld/pytorch_1659484775609/work/torch/csrc/utils/tensor_new.cpp:204.)\n",
      "  imgs = torch.tensor([item[0] for item in batch])\n",
      "/tmp/ipykernel_72641/73920298.py:4: UserWarning: Creating a tensor from a list of numpy.ndarrays is extremely slow. Please consider converting the list to a single numpy.ndarray with numpy.array() before converting to a tensor. (Triggered internally at  /opt/conda/conda-bld/pytorch_1659484775609/work/torch/csrc/utils/tensor_new.cpp:204.)\n",
      "  imgs = torch.tensor([item[0] for item in batch])\n"
     ]
    },
    {
     "name": "stdout",
     "output_type": "stream",
     "text": [
      "Epoch - 5 : loss train 0.9752396115584494, accuracy train 0.5984342694282532\n"
     ]
    },
    {
     "name": "stderr",
     "output_type": "stream",
     "text": [
      "/tmp/ipykernel_72641/73920298.py:4: UserWarning: Creating a tensor from a list of numpy.ndarrays is extremely slow. Please consider converting the list to a single numpy.ndarray with numpy.array() before converting to a tensor. (Triggered internally at  /opt/conda/conda-bld/pytorch_1659484775609/work/torch/csrc/utils/tensor_new.cpp:204.)\n",
      "  imgs = torch.tensor([item[0] for item in batch])\n",
      "/tmp/ipykernel_72641/73920298.py:4: UserWarning: Creating a tensor from a list of numpy.ndarrays is extremely slow. Please consider converting the list to a single numpy.ndarray with numpy.array() before converting to a tensor. (Triggered internally at  /opt/conda/conda-bld/pytorch_1659484775609/work/torch/csrc/utils/tensor_new.cpp:204.)\n",
      "  imgs = torch.tensor([item[0] for item in batch])\n"
     ]
    },
    {
     "name": "stdout",
     "output_type": "stream",
     "text": [
      "Epoch - 6 : loss train 0.980266774825705, accuracy train 0.6030002236366272\n"
     ]
    },
    {
     "name": "stderr",
     "output_type": "stream",
     "text": [
      "/tmp/ipykernel_72641/73920298.py:4: UserWarning: Creating a tensor from a list of numpy.ndarrays is extremely slow. Please consider converting the list to a single numpy.ndarray with numpy.array() before converting to a tensor. (Triggered internally at  /opt/conda/conda-bld/pytorch_1659484775609/work/torch/csrc/utils/tensor_new.cpp:204.)\n",
      "  imgs = torch.tensor([item[0] for item in batch])\n",
      "/tmp/ipykernel_72641/73920298.py:4: UserWarning: Creating a tensor from a list of numpy.ndarrays is extremely slow. Please consider converting the list to a single numpy.ndarray with numpy.array() before converting to a tensor. (Triggered internally at  /opt/conda/conda-bld/pytorch_1659484775609/work/torch/csrc/utils/tensor_new.cpp:204.)\n",
      "  imgs = torch.tensor([item[0] for item in batch])\n"
     ]
    },
    {
     "name": "stdout",
     "output_type": "stream",
     "text": [
      "Epoch - 7 : loss train 1.0432921152733594, accuracy train 0.5798848867416382\n"
     ]
    },
    {
     "name": "stderr",
     "output_type": "stream",
     "text": [
      "/tmp/ipykernel_72641/73920298.py:4: UserWarning: Creating a tensor from a list of numpy.ndarrays is extremely slow. Please consider converting the list to a single numpy.ndarray with numpy.array() before converting to a tensor. (Triggered internally at  /opt/conda/conda-bld/pytorch_1659484775609/work/torch/csrc/utils/tensor_new.cpp:204.)\n",
      "  imgs = torch.tensor([item[0] for item in batch])\n",
      "/tmp/ipykernel_72641/73920298.py:4: UserWarning: Creating a tensor from a list of numpy.ndarrays is extremely slow. Please consider converting the list to a single numpy.ndarray with numpy.array() before converting to a tensor. (Triggered internally at  /opt/conda/conda-bld/pytorch_1659484775609/work/torch/csrc/utils/tensor_new.cpp:204.)\n",
      "  imgs = torch.tensor([item[0] for item in batch])\n"
     ]
    },
    {
     "name": "stdout",
     "output_type": "stream",
     "text": [
      "Epoch - 8 : loss train 1.0215232374482899, accuracy train 0.5897835493087769\n"
     ]
    },
    {
     "name": "stderr",
     "output_type": "stream",
     "text": [
      "/tmp/ipykernel_72641/73920298.py:4: UserWarning: Creating a tensor from a list of numpy.ndarrays is extremely slow. Please consider converting the list to a single numpy.ndarray with numpy.array() before converting to a tensor. (Triggered internally at  /opt/conda/conda-bld/pytorch_1659484775609/work/torch/csrc/utils/tensor_new.cpp:204.)\n",
      "  imgs = torch.tensor([item[0] for item in batch])\n",
      "/tmp/ipykernel_72641/73920298.py:4: UserWarning: Creating a tensor from a list of numpy.ndarrays is extremely slow. Please consider converting the list to a single numpy.ndarray with numpy.array() before converting to a tensor. (Triggered internally at  /opt/conda/conda-bld/pytorch_1659484775609/work/torch/csrc/utils/tensor_new.cpp:204.)\n",
      "  imgs = torch.tensor([item[0] for item in batch])\n"
     ]
    },
    {
     "name": "stdout",
     "output_type": "stream",
     "text": [
      "Epoch - 9 : loss train 0.9842573138832547, accuracy train 0.5939662456512451\n"
     ]
    },
    {
     "name": "stderr",
     "output_type": "stream",
     "text": [
      "/tmp/ipykernel_72641/73920298.py:4: UserWarning: Creating a tensor from a list of numpy.ndarrays is extremely slow. Please consider converting the list to a single numpy.ndarray with numpy.array() before converting to a tensor. (Triggered internally at  /opt/conda/conda-bld/pytorch_1659484775609/work/torch/csrc/utils/tensor_new.cpp:204.)\n",
      "  imgs = torch.tensor([item[0] for item in batch])\n",
      "/tmp/ipykernel_72641/73920298.py:4: UserWarning: Creating a tensor from a list of numpy.ndarrays is extremely slow. Please consider converting the list to a single numpy.ndarray with numpy.array() before converting to a tensor. (Triggered internally at  /opt/conda/conda-bld/pytorch_1659484775609/work/torch/csrc/utils/tensor_new.cpp:204.)\n",
      "  imgs = torch.tensor([item[0] for item in batch])\n",
      " 60%|██████████████████████████▍                 | 3/5 [14:26<09:56, 298.37s/it]"
     ]
    },
    {
     "name": "stdout",
     "output_type": "stream",
     "text": [
      "loss test  1.4772207575038543 accuracy test  tensor(0.3861)\n"
     ]
    },
    {
     "name": "stderr",
     "output_type": "stream",
     "text": [
      "/tmp/ipykernel_72641/73920298.py:4: UserWarning: Creating a tensor from a list of numpy.ndarrays is extremely slow. Please consider converting the list to a single numpy.ndarray with numpy.array() before converting to a tensor. (Triggered internally at  /opt/conda/conda-bld/pytorch_1659484775609/work/torch/csrc/utils/tensor_new.cpp:204.)\n",
      "  imgs = torch.tensor([item[0] for item in batch])\n",
      "/tmp/ipykernel_72641/73920298.py:4: UserWarning: Creating a tensor from a list of numpy.ndarrays is extremely slow. Please consider converting the list to a single numpy.ndarray with numpy.array() before converting to a tensor. (Triggered internally at  /opt/conda/conda-bld/pytorch_1659484775609/work/torch/csrc/utils/tensor_new.cpp:204.)\n",
      "  imgs = torch.tensor([item[0] for item in batch])\n"
     ]
    },
    {
     "name": "stdout",
     "output_type": "stream",
     "text": [
      "Epoch - 0 : loss train 1.7243132572371547, accuracy train 0.29066991806030273\n"
     ]
    },
    {
     "name": "stderr",
     "output_type": "stream",
     "text": [
      "/tmp/ipykernel_72641/73920298.py:4: UserWarning: Creating a tensor from a list of numpy.ndarrays is extremely slow. Please consider converting the list to a single numpy.ndarray with numpy.array() before converting to a tensor. (Triggered internally at  /opt/conda/conda-bld/pytorch_1659484775609/work/torch/csrc/utils/tensor_new.cpp:204.)\n",
      "  imgs = torch.tensor([item[0] for item in batch])\n",
      "/tmp/ipykernel_72641/73920298.py:4: UserWarning: Creating a tensor from a list of numpy.ndarrays is extremely slow. Please consider converting the list to a single numpy.ndarray with numpy.array() before converting to a tensor. (Triggered internally at  /opt/conda/conda-bld/pytorch_1659484775609/work/torch/csrc/utils/tensor_new.cpp:204.)\n",
      "  imgs = torch.tensor([item[0] for item in batch])\n"
     ]
    },
    {
     "name": "stdout",
     "output_type": "stream",
     "text": [
      "Epoch - 1 : loss train 1.5640723139130048, accuracy train 0.3380714952945709\n"
     ]
    },
    {
     "name": "stderr",
     "output_type": "stream",
     "text": [
      "/tmp/ipykernel_72641/73920298.py:4: UserWarning: Creating a tensor from a list of numpy.ndarrays is extremely slow. Please consider converting the list to a single numpy.ndarray with numpy.array() before converting to a tensor. (Triggered internally at  /opt/conda/conda-bld/pytorch_1659484775609/work/torch/csrc/utils/tensor_new.cpp:204.)\n",
      "  imgs = torch.tensor([item[0] for item in batch])\n",
      "/tmp/ipykernel_72641/73920298.py:4: UserWarning: Creating a tensor from a list of numpy.ndarrays is extremely slow. Please consider converting the list to a single numpy.ndarray with numpy.array() before converting to a tensor. (Triggered internally at  /opt/conda/conda-bld/pytorch_1659484775609/work/torch/csrc/utils/tensor_new.cpp:204.)\n",
      "  imgs = torch.tensor([item[0] for item in batch])\n"
     ]
    },
    {
     "name": "stdout",
     "output_type": "stream",
     "text": [
      "Epoch - 2 : loss train 1.5037935017559816, accuracy train 0.3612719476222992\n"
     ]
    },
    {
     "name": "stderr",
     "output_type": "stream",
     "text": [
      "/tmp/ipykernel_72641/73920298.py:4: UserWarning: Creating a tensor from a list of numpy.ndarrays is extremely slow. Please consider converting the list to a single numpy.ndarray with numpy.array() before converting to a tensor. (Triggered internally at  /opt/conda/conda-bld/pytorch_1659484775609/work/torch/csrc/utils/tensor_new.cpp:204.)\n",
      "  imgs = torch.tensor([item[0] for item in batch])\n",
      "/tmp/ipykernel_72641/73920298.py:4: UserWarning: Creating a tensor from a list of numpy.ndarrays is extremely slow. Please consider converting the list to a single numpy.ndarray with numpy.array() before converting to a tensor. (Triggered internally at  /opt/conda/conda-bld/pytorch_1659484775609/work/torch/csrc/utils/tensor_new.cpp:204.)\n",
      "  imgs = torch.tensor([item[0] for item in batch])\n"
     ]
    },
    {
     "name": "stdout",
     "output_type": "stream",
     "text": [
      "loss test  2.1663690521786965 accuracy test  tensor(0.1297)\n"
     ]
    },
    {
     "name": "stderr",
     "output_type": "stream",
     "text": [
      "/tmp/ipykernel_72641/73920298.py:4: UserWarning: Creating a tensor from a list of numpy.ndarrays is extremely slow. Please consider converting the list to a single numpy.ndarray with numpy.array() before converting to a tensor. (Triggered internally at  /opt/conda/conda-bld/pytorch_1659484775609/work/torch/csrc/utils/tensor_new.cpp:204.)\n",
      "  imgs = torch.tensor([item[0] for item in batch])\n",
      "/tmp/ipykernel_72641/73920298.py:4: UserWarning: Creating a tensor from a list of numpy.ndarrays is extremely slow. Please consider converting the list to a single numpy.ndarray with numpy.array() before converting to a tensor. (Triggered internally at  /opt/conda/conda-bld/pytorch_1659484775609/work/torch/csrc/utils/tensor_new.cpp:204.)\n",
      "  imgs = torch.tensor([item[0] for item in batch])\n"
     ]
    },
    {
     "name": "stdout",
     "output_type": "stream",
     "text": [
      "Epoch - 0 : loss train 1.855886957638954, accuracy train 0.254902184009552\n"
     ]
    },
    {
     "name": "stderr",
     "output_type": "stream",
     "text": [
      "/tmp/ipykernel_72641/73920298.py:4: UserWarning: Creating a tensor from a list of numpy.ndarrays is extremely slow. Please consider converting the list to a single numpy.ndarray with numpy.array() before converting to a tensor. (Triggered internally at  /opt/conda/conda-bld/pytorch_1659484775609/work/torch/csrc/utils/tensor_new.cpp:204.)\n",
      "  imgs = torch.tensor([item[0] for item in batch])\n",
      "/tmp/ipykernel_72641/73920298.py:4: UserWarning: Creating a tensor from a list of numpy.ndarrays is extremely slow. Please consider converting the list to a single numpy.ndarray with numpy.array() before converting to a tensor. (Triggered internally at  /opt/conda/conda-bld/pytorch_1659484775609/work/torch/csrc/utils/tensor_new.cpp:204.)\n",
      "  imgs = torch.tensor([item[0] for item in batch])\n"
     ]
    },
    {
     "name": "stdout",
     "output_type": "stream",
     "text": [
      "Epoch - 1 : loss train 1.5445883439306742, accuracy train 0.35788798332214355\n"
     ]
    },
    {
     "name": "stderr",
     "output_type": "stream",
     "text": [
      "/tmp/ipykernel_72641/73920298.py:4: UserWarning: Creating a tensor from a list of numpy.ndarrays is extremely slow. Please consider converting the list to a single numpy.ndarray with numpy.array() before converting to a tensor. (Triggered internally at  /opt/conda/conda-bld/pytorch_1659484775609/work/torch/csrc/utils/tensor_new.cpp:204.)\n",
      "  imgs = torch.tensor([item[0] for item in batch])\n",
      "/tmp/ipykernel_72641/73920298.py:4: UserWarning: Creating a tensor from a list of numpy.ndarrays is extremely slow. Please consider converting the list to a single numpy.ndarray with numpy.array() before converting to a tensor. (Triggered internally at  /opt/conda/conda-bld/pytorch_1659484775609/work/torch/csrc/utils/tensor_new.cpp:204.)\n",
      "  imgs = torch.tensor([item[0] for item in batch])\n"
     ]
    },
    {
     "name": "stdout",
     "output_type": "stream",
     "text": [
      "Epoch - 2 : loss train 1.3838176790401684, accuracy train 0.41365522146224976\n"
     ]
    },
    {
     "name": "stderr",
     "output_type": "stream",
     "text": [
      "/tmp/ipykernel_72641/73920298.py:4: UserWarning: Creating a tensor from a list of numpy.ndarrays is extremely slow. Please consider converting the list to a single numpy.ndarray with numpy.array() before converting to a tensor. (Triggered internally at  /opt/conda/conda-bld/pytorch_1659484775609/work/torch/csrc/utils/tensor_new.cpp:204.)\n",
      "  imgs = torch.tensor([item[0] for item in batch])\n",
      "/tmp/ipykernel_72641/73920298.py:4: UserWarning: Creating a tensor from a list of numpy.ndarrays is extremely slow. Please consider converting the list to a single numpy.ndarray with numpy.array() before converting to a tensor. (Triggered internally at  /opt/conda/conda-bld/pytorch_1659484775609/work/torch/csrc/utils/tensor_new.cpp:204.)\n",
      "  imgs = torch.tensor([item[0] for item in batch])\n"
     ]
    },
    {
     "name": "stdout",
     "output_type": "stream",
     "text": [
      "Epoch - 3 : loss train 1.3502221683663402, accuracy train 0.43613773584365845\n"
     ]
    },
    {
     "name": "stderr",
     "output_type": "stream",
     "text": [
      "/tmp/ipykernel_72641/73920298.py:4: UserWarning: Creating a tensor from a list of numpy.ndarrays is extremely slow. Please consider converting the list to a single numpy.ndarray with numpy.array() before converting to a tensor. (Triggered internally at  /opt/conda/conda-bld/pytorch_1659484775609/work/torch/csrc/utils/tensor_new.cpp:204.)\n",
      "  imgs = torch.tensor([item[0] for item in batch])\n",
      "/tmp/ipykernel_72641/73920298.py:4: UserWarning: Creating a tensor from a list of numpy.ndarrays is extremely slow. Please consider converting the list to a single numpy.ndarray with numpy.array() before converting to a tensor. (Triggered internally at  /opt/conda/conda-bld/pytorch_1659484775609/work/torch/csrc/utils/tensor_new.cpp:204.)\n",
      "  imgs = torch.tensor([item[0] for item in batch])\n"
     ]
    },
    {
     "name": "stdout",
     "output_type": "stream",
     "text": [
      "Epoch - 4 : loss train 1.321945876808143, accuracy train 0.4405714273452759\n"
     ]
    },
    {
     "name": "stderr",
     "output_type": "stream",
     "text": [
      "/tmp/ipykernel_72641/73920298.py:4: UserWarning: Creating a tensor from a list of numpy.ndarrays is extremely slow. Please consider converting the list to a single numpy.ndarray with numpy.array() before converting to a tensor. (Triggered internally at  /opt/conda/conda-bld/pytorch_1659484775609/work/torch/csrc/utils/tensor_new.cpp:204.)\n",
      "  imgs = torch.tensor([item[0] for item in batch])\n",
      "/tmp/ipykernel_72641/73920298.py:4: UserWarning: Creating a tensor from a list of numpy.ndarrays is extremely slow. Please consider converting the list to a single numpy.ndarray with numpy.array() before converting to a tensor. (Triggered internally at  /opt/conda/conda-bld/pytorch_1659484775609/work/torch/csrc/utils/tensor_new.cpp:204.)\n",
      "  imgs = torch.tensor([item[0] for item in batch])\n"
     ]
    },
    {
     "name": "stdout",
     "output_type": "stream",
     "text": [
      "loss test  2.0923077954956364 accuracy test  tensor(0.2317)\n"
     ]
    },
    {
     "name": "stderr",
     "output_type": "stream",
     "text": [
      "/tmp/ipykernel_72641/73920298.py:4: UserWarning: Creating a tensor from a list of numpy.ndarrays is extremely slow. Please consider converting the list to a single numpy.ndarray with numpy.array() before converting to a tensor. (Triggered internally at  /opt/conda/conda-bld/pytorch_1659484775609/work/torch/csrc/utils/tensor_new.cpp:204.)\n",
      "  imgs = torch.tensor([item[0] for item in batch])\n",
      "/tmp/ipykernel_72641/73920298.py:4: UserWarning: Creating a tensor from a list of numpy.ndarrays is extremely slow. Please consider converting the list to a single numpy.ndarray with numpy.array() before converting to a tensor. (Triggered internally at  /opt/conda/conda-bld/pytorch_1659484775609/work/torch/csrc/utils/tensor_new.cpp:204.)\n",
      "  imgs = torch.tensor([item[0] for item in batch])\n"
     ]
    },
    {
     "name": "stdout",
     "output_type": "stream",
     "text": [
      "Epoch - 0 : loss train 1.414605745467091, accuracy train 0.40645042061805725\n"
     ]
    },
    {
     "name": "stderr",
     "output_type": "stream",
     "text": [
      "/tmp/ipykernel_72641/73920298.py:4: UserWarning: Creating a tensor from a list of numpy.ndarrays is extremely slow. Please consider converting the list to a single numpy.ndarray with numpy.array() before converting to a tensor. (Triggered internally at  /opt/conda/conda-bld/pytorch_1659484775609/work/torch/csrc/utils/tensor_new.cpp:204.)\n",
      "  imgs = torch.tensor([item[0] for item in batch])\n",
      "/tmp/ipykernel_72641/73920298.py:4: UserWarning: Creating a tensor from a list of numpy.ndarrays is extremely slow. Please consider converting the list to a single numpy.ndarray with numpy.array() before converting to a tensor. (Triggered internally at  /opt/conda/conda-bld/pytorch_1659484775609/work/torch/csrc/utils/tensor_new.cpp:204.)\n",
      "  imgs = torch.tensor([item[0] for item in batch])\n"
     ]
    },
    {
     "name": "stdout",
     "output_type": "stream",
     "text": [
      "Epoch - 1 : loss train 1.1191082476770708, accuracy train 0.5244979858398438\n"
     ]
    },
    {
     "name": "stderr",
     "output_type": "stream",
     "text": [
      "/tmp/ipykernel_72641/73920298.py:4: UserWarning: Creating a tensor from a list of numpy.ndarrays is extremely slow. Please consider converting the list to a single numpy.ndarray with numpy.array() before converting to a tensor. (Triggered internally at  /opt/conda/conda-bld/pytorch_1659484775609/work/torch/csrc/utils/tensor_new.cpp:204.)\n",
      "  imgs = torch.tensor([item[0] for item in batch])\n",
      "/tmp/ipykernel_72641/73920298.py:4: UserWarning: Creating a tensor from a list of numpy.ndarrays is extremely slow. Please consider converting the list to a single numpy.ndarray with numpy.array() before converting to a tensor. (Triggered internally at  /opt/conda/conda-bld/pytorch_1659484775609/work/torch/csrc/utils/tensor_new.cpp:204.)\n",
      "  imgs = torch.tensor([item[0] for item in batch])\n"
     ]
    },
    {
     "name": "stdout",
     "output_type": "stream",
     "text": [
      "Epoch - 2 : loss train 1.0838777609796524, accuracy train 0.5520812273025513\n"
     ]
    },
    {
     "name": "stderr",
     "output_type": "stream",
     "text": [
      "/tmp/ipykernel_72641/73920298.py:4: UserWarning: Creating a tensor from a list of numpy.ndarrays is extremely slow. Please consider converting the list to a single numpy.ndarray with numpy.array() before converting to a tensor. (Triggered internally at  /opt/conda/conda-bld/pytorch_1659484775609/work/torch/csrc/utils/tensor_new.cpp:204.)\n",
      "  imgs = torch.tensor([item[0] for item in batch])\n",
      "/tmp/ipykernel_72641/73920298.py:4: UserWarning: Creating a tensor from a list of numpy.ndarrays is extremely slow. Please consider converting the list to a single numpy.ndarray with numpy.array() before converting to a tensor. (Triggered internally at  /opt/conda/conda-bld/pytorch_1659484775609/work/torch/csrc/utils/tensor_new.cpp:204.)\n",
      "  imgs = torch.tensor([item[0] for item in batch])\n"
     ]
    },
    {
     "name": "stdout",
     "output_type": "stream",
     "text": [
      "Epoch - 3 : loss train 1.0577681847616105, accuracy train 0.5727322101593018\n"
     ]
    },
    {
     "name": "stderr",
     "output_type": "stream",
     "text": [
      "/tmp/ipykernel_72641/73920298.py:4: UserWarning: Creating a tensor from a list of numpy.ndarrays is extremely slow. Please consider converting the list to a single numpy.ndarray with numpy.array() before converting to a tensor. (Triggered internally at  /opt/conda/conda-bld/pytorch_1659484775609/work/torch/csrc/utils/tensor_new.cpp:204.)\n",
      "  imgs = torch.tensor([item[0] for item in batch])\n",
      "/tmp/ipykernel_72641/73920298.py:4: UserWarning: Creating a tensor from a list of numpy.ndarrays is extremely slow. Please consider converting the list to a single numpy.ndarray with numpy.array() before converting to a tensor. (Triggered internally at  /opt/conda/conda-bld/pytorch_1659484775609/work/torch/csrc/utils/tensor_new.cpp:204.)\n",
      "  imgs = torch.tensor([item[0] for item in batch])\n"
     ]
    },
    {
     "name": "stdout",
     "output_type": "stream",
     "text": [
      "Epoch - 4 : loss train 1.0571410439055855, accuracy train 0.5748661160469055\n"
     ]
    },
    {
     "name": "stderr",
     "output_type": "stream",
     "text": [
      "/tmp/ipykernel_72641/73920298.py:4: UserWarning: Creating a tensor from a list of numpy.ndarrays is extremely slow. Please consider converting the list to a single numpy.ndarray with numpy.array() before converting to a tensor. (Triggered internally at  /opt/conda/conda-bld/pytorch_1659484775609/work/torch/csrc/utils/tensor_new.cpp:204.)\n",
      "  imgs = torch.tensor([item[0] for item in batch])\n",
      "/tmp/ipykernel_72641/73920298.py:4: UserWarning: Creating a tensor from a list of numpy.ndarrays is extremely slow. Please consider converting the list to a single numpy.ndarray with numpy.array() before converting to a tensor. (Triggered internally at  /opt/conda/conda-bld/pytorch_1659484775609/work/torch/csrc/utils/tensor_new.cpp:204.)\n",
      "  imgs = torch.tensor([item[0] for item in batch])\n"
     ]
    },
    {
     "name": "stdout",
     "output_type": "stream",
     "text": [
      "Epoch - 5 : loss train 1.0774542224774168, accuracy train 0.5674648284912109\n"
     ]
    },
    {
     "name": "stderr",
     "output_type": "stream",
     "text": [
      "/tmp/ipykernel_72641/73920298.py:4: UserWarning: Creating a tensor from a list of numpy.ndarrays is extremely slow. Please consider converting the list to a single numpy.ndarray with numpy.array() before converting to a tensor. (Triggered internally at  /opt/conda/conda-bld/pytorch_1659484775609/work/torch/csrc/utils/tensor_new.cpp:204.)\n",
      "  imgs = torch.tensor([item[0] for item in batch])\n",
      "/tmp/ipykernel_72641/73920298.py:4: UserWarning: Creating a tensor from a list of numpy.ndarrays is extremely slow. Please consider converting the list to a single numpy.ndarray with numpy.array() before converting to a tensor. (Triggered internally at  /opt/conda/conda-bld/pytorch_1659484775609/work/torch/csrc/utils/tensor_new.cpp:204.)\n",
      "  imgs = torch.tensor([item[0] for item in batch])\n"
     ]
    },
    {
     "name": "stdout",
     "output_type": "stream",
     "text": [
      "Epoch - 6 : loss train 1.0399154698845976, accuracy train 0.5827658772468567\n"
     ]
    },
    {
     "name": "stderr",
     "output_type": "stream",
     "text": [
      "/tmp/ipykernel_72641/73920298.py:4: UserWarning: Creating a tensor from a list of numpy.ndarrays is extremely slow. Please consider converting the list to a single numpy.ndarray with numpy.array() before converting to a tensor. (Triggered internally at  /opt/conda/conda-bld/pytorch_1659484775609/work/torch/csrc/utils/tensor_new.cpp:204.)\n",
      "  imgs = torch.tensor([item[0] for item in batch])\n",
      "/tmp/ipykernel_72641/73920298.py:4: UserWarning: Creating a tensor from a list of numpy.ndarrays is extremely slow. Please consider converting the list to a single numpy.ndarray with numpy.array() before converting to a tensor. (Triggered internally at  /opt/conda/conda-bld/pytorch_1659484775609/work/torch/csrc/utils/tensor_new.cpp:204.)\n",
      "  imgs = torch.tensor([item[0] for item in batch])\n"
     ]
    },
    {
     "name": "stdout",
     "output_type": "stream",
     "text": [
      "Epoch - 7 : loss train 1.0611646552185, accuracy train 0.586764931678772\n"
     ]
    },
    {
     "name": "stderr",
     "output_type": "stream",
     "text": [
      "/tmp/ipykernel_72641/73920298.py:4: UserWarning: Creating a tensor from a list of numpy.ndarrays is extremely slow. Please consider converting the list to a single numpy.ndarray with numpy.array() before converting to a tensor. (Triggered internally at  /opt/conda/conda-bld/pytorch_1659484775609/work/torch/csrc/utils/tensor_new.cpp:204.)\n",
      "  imgs = torch.tensor([item[0] for item in batch])\n",
      "/tmp/ipykernel_72641/73920298.py:4: UserWarning: Creating a tensor from a list of numpy.ndarrays is extremely slow. Please consider converting the list to a single numpy.ndarray with numpy.array() before converting to a tensor. (Triggered internally at  /opt/conda/conda-bld/pytorch_1659484775609/work/torch/csrc/utils/tensor_new.cpp:204.)\n",
      "  imgs = torch.tensor([item[0] for item in batch])\n"
     ]
    },
    {
     "name": "stdout",
     "output_type": "stream",
     "text": [
      "Epoch - 8 : loss train 1.0391128123634008, accuracy train 0.5997841954231262\n"
     ]
    },
    {
     "name": "stderr",
     "output_type": "stream",
     "text": [
      "/tmp/ipykernel_72641/73920298.py:4: UserWarning: Creating a tensor from a list of numpy.ndarrays is extremely slow. Please consider converting the list to a single numpy.ndarray with numpy.array() before converting to a tensor. (Triggered internally at  /opt/conda/conda-bld/pytorch_1659484775609/work/torch/csrc/utils/tensor_new.cpp:204.)\n",
      "  imgs = torch.tensor([item[0] for item in batch])\n",
      "/tmp/ipykernel_72641/73920298.py:4: UserWarning: Creating a tensor from a list of numpy.ndarrays is extremely slow. Please consider converting the list to a single numpy.ndarray with numpy.array() before converting to a tensor. (Triggered internally at  /opt/conda/conda-bld/pytorch_1659484775609/work/torch/csrc/utils/tensor_new.cpp:204.)\n",
      "  imgs = torch.tensor([item[0] for item in batch])\n"
     ]
    },
    {
     "name": "stdout",
     "output_type": "stream",
     "text": [
      "Epoch - 9 : loss train 1.0661725965459898, accuracy train 0.5824999213218689\n"
     ]
    },
    {
     "name": "stderr",
     "output_type": "stream",
     "text": [
      "/tmp/ipykernel_72641/73920298.py:4: UserWarning: Creating a tensor from a list of numpy.ndarrays is extremely slow. Please consider converting the list to a single numpy.ndarray with numpy.array() before converting to a tensor. (Triggered internally at  /opt/conda/conda-bld/pytorch_1659484775609/work/torch/csrc/utils/tensor_new.cpp:204.)\n",
      "  imgs = torch.tensor([item[0] for item in batch])\n",
      "/tmp/ipykernel_72641/73920298.py:4: UserWarning: Creating a tensor from a list of numpy.ndarrays is extremely slow. Please consider converting the list to a single numpy.ndarray with numpy.array() before converting to a tensor. (Triggered internally at  /opt/conda/conda-bld/pytorch_1659484775609/work/torch/csrc/utils/tensor_new.cpp:204.)\n",
      "  imgs = torch.tensor([item[0] for item in batch])\n",
      " 80%|███████████████████████████████████▏        | 4/5 [20:43<05:29, 329.57s/it]"
     ]
    },
    {
     "name": "stdout",
     "output_type": "stream",
     "text": [
      "loss test  1.8019744798759771 accuracy test  tensor(0.2642)\n"
     ]
    },
    {
     "name": "stderr",
     "output_type": "stream",
     "text": [
      "/tmp/ipykernel_72641/73920298.py:4: UserWarning: Creating a tensor from a list of numpy.ndarrays is extremely slow. Please consider converting the list to a single numpy.ndarray with numpy.array() before converting to a tensor. (Triggered internally at  /opt/conda/conda-bld/pytorch_1659484775609/work/torch/csrc/utils/tensor_new.cpp:204.)\n",
      "  imgs = torch.tensor([item[0] for item in batch])\n",
      "/tmp/ipykernel_72641/73920298.py:4: UserWarning: Creating a tensor from a list of numpy.ndarrays is extremely slow. Please consider converting the list to a single numpy.ndarray with numpy.array() before converting to a tensor. (Triggered internally at  /opt/conda/conda-bld/pytorch_1659484775609/work/torch/csrc/utils/tensor_new.cpp:204.)\n",
      "  imgs = torch.tensor([item[0] for item in batch])\n"
     ]
    },
    {
     "name": "stdout",
     "output_type": "stream",
     "text": [
      "Epoch - 0 : loss train 1.478959737065554, accuracy train 0.38988471031188965\n"
     ]
    },
    {
     "name": "stderr",
     "output_type": "stream",
     "text": [
      "/tmp/ipykernel_72641/73920298.py:4: UserWarning: Creating a tensor from a list of numpy.ndarrays is extremely slow. Please consider converting the list to a single numpy.ndarray with numpy.array() before converting to a tensor. (Triggered internally at  /opt/conda/conda-bld/pytorch_1659484775609/work/torch/csrc/utils/tensor_new.cpp:204.)\n",
      "  imgs = torch.tensor([item[0] for item in batch])\n",
      "/tmp/ipykernel_72641/73920298.py:4: UserWarning: Creating a tensor from a list of numpy.ndarrays is extremely slow. Please consider converting the list to a single numpy.ndarray with numpy.array() before converting to a tensor. (Triggered internally at  /opt/conda/conda-bld/pytorch_1659484775609/work/torch/csrc/utils/tensor_new.cpp:204.)\n",
      "  imgs = torch.tensor([item[0] for item in batch])\n"
     ]
    },
    {
     "name": "stdout",
     "output_type": "stream",
     "text": [
      "Epoch - 1 : loss train 1.1812798249823806, accuracy train 0.5037994980812073\n"
     ]
    },
    {
     "name": "stderr",
     "output_type": "stream",
     "text": [
      "/tmp/ipykernel_72641/73920298.py:4: UserWarning: Creating a tensor from a list of numpy.ndarrays is extremely slow. Please consider converting the list to a single numpy.ndarray with numpy.array() before converting to a tensor. (Triggered internally at  /opt/conda/conda-bld/pytorch_1659484775609/work/torch/csrc/utils/tensor_new.cpp:204.)\n",
      "  imgs = torch.tensor([item[0] for item in batch])\n",
      "/tmp/ipykernel_72641/73920298.py:4: UserWarning: Creating a tensor from a list of numpy.ndarrays is extremely slow. Please consider converting the list to a single numpy.ndarray with numpy.array() before converting to a tensor. (Triggered internally at  /opt/conda/conda-bld/pytorch_1659484775609/work/torch/csrc/utils/tensor_new.cpp:204.)\n",
      "  imgs = torch.tensor([item[0] for item in batch])\n"
     ]
    },
    {
     "name": "stdout",
     "output_type": "stream",
     "text": [
      "Epoch - 2 : loss train 1.1436661665320136, accuracy train 0.5222644209861755\n"
     ]
    },
    {
     "name": "stderr",
     "output_type": "stream",
     "text": [
      "/tmp/ipykernel_72641/73920298.py:4: UserWarning: Creating a tensor from a list of numpy.ndarrays is extremely slow. Please consider converting the list to a single numpy.ndarray with numpy.array() before converting to a tensor. (Triggered internally at  /opt/conda/conda-bld/pytorch_1659484775609/work/torch/csrc/utils/tensor_new.cpp:204.)\n",
      "  imgs = torch.tensor([item[0] for item in batch])\n",
      "/tmp/ipykernel_72641/73920298.py:4: UserWarning: Creating a tensor from a list of numpy.ndarrays is extremely slow. Please consider converting the list to a single numpy.ndarray with numpy.array() before converting to a tensor. (Triggered internally at  /opt/conda/conda-bld/pytorch_1659484775609/work/torch/csrc/utils/tensor_new.cpp:204.)\n",
      "  imgs = torch.tensor([item[0] for item in batch])\n"
     ]
    },
    {
     "name": "stdout",
     "output_type": "stream",
     "text": [
      "loss test  2.1080618033087384 accuracy test  tensor(0.1790)\n"
     ]
    },
    {
     "name": "stderr",
     "output_type": "stream",
     "text": [
      "/tmp/ipykernel_72641/73920298.py:4: UserWarning: Creating a tensor from a list of numpy.ndarrays is extremely slow. Please consider converting the list to a single numpy.ndarray with numpy.array() before converting to a tensor. (Triggered internally at  /opt/conda/conda-bld/pytorch_1659484775609/work/torch/csrc/utils/tensor_new.cpp:204.)\n",
      "  imgs = torch.tensor([item[0] for item in batch])\n",
      "/tmp/ipykernel_72641/73920298.py:4: UserWarning: Creating a tensor from a list of numpy.ndarrays is extremely slow. Please consider converting the list to a single numpy.ndarray with numpy.array() before converting to a tensor. (Triggered internally at  /opt/conda/conda-bld/pytorch_1659484775609/work/torch/csrc/utils/tensor_new.cpp:204.)\n",
      "  imgs = torch.tensor([item[0] for item in batch])\n"
     ]
    },
    {
     "name": "stdout",
     "output_type": "stream",
     "text": [
      "Epoch - 0 : loss train 1.4617242310281018, accuracy train 0.378185510635376\n"
     ]
    },
    {
     "name": "stderr",
     "output_type": "stream",
     "text": [
      "/tmp/ipykernel_72641/73920298.py:4: UserWarning: Creating a tensor from a list of numpy.ndarrays is extremely slow. Please consider converting the list to a single numpy.ndarray with numpy.array() before converting to a tensor. (Triggered internally at  /opt/conda/conda-bld/pytorch_1659484775609/work/torch/csrc/utils/tensor_new.cpp:204.)\n",
      "  imgs = torch.tensor([item[0] for item in batch])\n",
      "/tmp/ipykernel_72641/73920298.py:4: UserWarning: Creating a tensor from a list of numpy.ndarrays is extremely slow. Please consider converting the list to a single numpy.ndarray with numpy.array() before converting to a tensor. (Triggered internally at  /opt/conda/conda-bld/pytorch_1659484775609/work/torch/csrc/utils/tensor_new.cpp:204.)\n",
      "  imgs = torch.tensor([item[0] for item in batch])\n"
     ]
    },
    {
     "name": "stdout",
     "output_type": "stream",
     "text": [
      "Epoch - 1 : loss train 1.2028664049708262, accuracy train 0.4861501455307007\n"
     ]
    },
    {
     "name": "stderr",
     "output_type": "stream",
     "text": [
      "/tmp/ipykernel_72641/73920298.py:4: UserWarning: Creating a tensor from a list of numpy.ndarrays is extremely slow. Please consider converting the list to a single numpy.ndarray with numpy.array() before converting to a tensor. (Triggered internally at  /opt/conda/conda-bld/pytorch_1659484775609/work/torch/csrc/utils/tensor_new.cpp:204.)\n",
      "  imgs = torch.tensor([item[0] for item in batch])\n",
      "/tmp/ipykernel_72641/73920298.py:4: UserWarning: Creating a tensor from a list of numpy.ndarrays is extremely slow. Please consider converting the list to a single numpy.ndarray with numpy.array() before converting to a tensor. (Triggered internally at  /opt/conda/conda-bld/pytorch_1659484775609/work/torch/csrc/utils/tensor_new.cpp:204.)\n",
      "  imgs = torch.tensor([item[0] for item in batch])\n"
     ]
    },
    {
     "name": "stdout",
     "output_type": "stream",
     "text": [
      "Epoch - 2 : loss train 1.1557467159314105, accuracy train 0.5046659111976624\n"
     ]
    },
    {
     "name": "stderr",
     "output_type": "stream",
     "text": [
      "/tmp/ipykernel_72641/73920298.py:4: UserWarning: Creating a tensor from a list of numpy.ndarrays is extremely slow. Please consider converting the list to a single numpy.ndarray with numpy.array() before converting to a tensor. (Triggered internally at  /opt/conda/conda-bld/pytorch_1659484775609/work/torch/csrc/utils/tensor_new.cpp:204.)\n",
      "  imgs = torch.tensor([item[0] for item in batch])\n",
      "/tmp/ipykernel_72641/73920298.py:4: UserWarning: Creating a tensor from a list of numpy.ndarrays is extremely slow. Please consider converting the list to a single numpy.ndarray with numpy.array() before converting to a tensor. (Triggered internally at  /opt/conda/conda-bld/pytorch_1659484775609/work/torch/csrc/utils/tensor_new.cpp:204.)\n",
      "  imgs = torch.tensor([item[0] for item in batch])\n"
     ]
    },
    {
     "name": "stdout",
     "output_type": "stream",
     "text": [
      "Epoch - 3 : loss train 1.1280264042712553, accuracy train 0.5156986117362976\n"
     ]
    },
    {
     "name": "stderr",
     "output_type": "stream",
     "text": [
      "/tmp/ipykernel_72641/73920298.py:4: UserWarning: Creating a tensor from a list of numpy.ndarrays is extremely slow. Please consider converting the list to a single numpy.ndarray with numpy.array() before converting to a tensor. (Triggered internally at  /opt/conda/conda-bld/pytorch_1659484775609/work/torch/csrc/utils/tensor_new.cpp:204.)\n",
      "  imgs = torch.tensor([item[0] for item in batch])\n",
      "/tmp/ipykernel_72641/73920298.py:4: UserWarning: Creating a tensor from a list of numpy.ndarrays is extremely slow. Please consider converting the list to a single numpy.ndarray with numpy.array() before converting to a tensor. (Triggered internally at  /opt/conda/conda-bld/pytorch_1659484775609/work/torch/csrc/utils/tensor_new.cpp:204.)\n",
      "  imgs = torch.tensor([item[0] for item in batch])\n"
     ]
    },
    {
     "name": "stdout",
     "output_type": "stream",
     "text": [
      "Epoch - 4 : loss train 1.0930534012367856, accuracy train 0.5356314778327942\n"
     ]
    },
    {
     "name": "stderr",
     "output_type": "stream",
     "text": [
      "/tmp/ipykernel_72641/73920298.py:4: UserWarning: Creating a tensor from a list of numpy.ndarrays is extremely slow. Please consider converting the list to a single numpy.ndarray with numpy.array() before converting to a tensor. (Triggered internally at  /opt/conda/conda-bld/pytorch_1659484775609/work/torch/csrc/utils/tensor_new.cpp:204.)\n",
      "  imgs = torch.tensor([item[0] for item in batch])\n",
      "/tmp/ipykernel_72641/73920298.py:4: UserWarning: Creating a tensor from a list of numpy.ndarrays is extremely slow. Please consider converting the list to a single numpy.ndarray with numpy.array() before converting to a tensor. (Triggered internally at  /opt/conda/conda-bld/pytorch_1659484775609/work/torch/csrc/utils/tensor_new.cpp:204.)\n",
      "  imgs = torch.tensor([item[0] for item in batch])\n"
     ]
    },
    {
     "name": "stdout",
     "output_type": "stream",
     "text": [
      "loss test  2.0824296810336382 accuracy test  tensor(0.1944)\n"
     ]
    },
    {
     "name": "stderr",
     "output_type": "stream",
     "text": [
      "/tmp/ipykernel_72641/73920298.py:4: UserWarning: Creating a tensor from a list of numpy.ndarrays is extremely slow. Please consider converting the list to a single numpy.ndarray with numpy.array() before converting to a tensor. (Triggered internally at  /opt/conda/conda-bld/pytorch_1659484775609/work/torch/csrc/utils/tensor_new.cpp:204.)\n",
      "  imgs = torch.tensor([item[0] for item in batch])\n",
      "/tmp/ipykernel_72641/73920298.py:4: UserWarning: Creating a tensor from a list of numpy.ndarrays is extremely slow. Please consider converting the list to a single numpy.ndarray with numpy.array() before converting to a tensor. (Triggered internally at  /opt/conda/conda-bld/pytorch_1659484775609/work/torch/csrc/utils/tensor_new.cpp:204.)\n",
      "  imgs = torch.tensor([item[0] for item in batch])\n"
     ]
    },
    {
     "name": "stdout",
     "output_type": "stream",
     "text": [
      "Epoch - 0 : loss train 1.7976489698926075, accuracy train 0.2569683790206909\n"
     ]
    },
    {
     "name": "stderr",
     "output_type": "stream",
     "text": [
      "/tmp/ipykernel_72641/73920298.py:4: UserWarning: Creating a tensor from a list of numpy.ndarrays is extremely slow. Please consider converting the list to a single numpy.ndarray with numpy.array() before converting to a tensor. (Triggered internally at  /opt/conda/conda-bld/pytorch_1659484775609/work/torch/csrc/utils/tensor_new.cpp:204.)\n",
      "  imgs = torch.tensor([item[0] for item in batch])\n",
      "/tmp/ipykernel_72641/73920298.py:4: UserWarning: Creating a tensor from a list of numpy.ndarrays is extremely slow. Please consider converting the list to a single numpy.ndarray with numpy.array() before converting to a tensor. (Triggered internally at  /opt/conda/conda-bld/pytorch_1659484775609/work/torch/csrc/utils/tensor_new.cpp:204.)\n",
      "  imgs = torch.tensor([item[0] for item in batch])\n"
     ]
    },
    {
     "name": "stdout",
     "output_type": "stream",
     "text": [
      "Epoch - 1 : loss train 1.541177702386588, accuracy train 0.3091873526573181\n"
     ]
    },
    {
     "name": "stderr",
     "output_type": "stream",
     "text": [
      "/tmp/ipykernel_72641/73920298.py:4: UserWarning: Creating a tensor from a list of numpy.ndarrays is extremely slow. Please consider converting the list to a single numpy.ndarray with numpy.array() before converting to a tensor. (Triggered internally at  /opt/conda/conda-bld/pytorch_1659484775609/work/torch/csrc/utils/tensor_new.cpp:204.)\n",
      "  imgs = torch.tensor([item[0] for item in batch])\n",
      "/tmp/ipykernel_72641/73920298.py:4: UserWarning: Creating a tensor from a list of numpy.ndarrays is extremely slow. Please consider converting the list to a single numpy.ndarray with numpy.array() before converting to a tensor. (Triggered internally at  /opt/conda/conda-bld/pytorch_1659484775609/work/torch/csrc/utils/tensor_new.cpp:204.)\n",
      "  imgs = torch.tensor([item[0] for item in batch])\n"
     ]
    },
    {
     "name": "stdout",
     "output_type": "stream",
     "text": [
      "Epoch - 2 : loss train 1.503489997123665, accuracy train 0.3288709819316864\n"
     ]
    },
    {
     "name": "stderr",
     "output_type": "stream",
     "text": [
      "/tmp/ipykernel_72641/73920298.py:4: UserWarning: Creating a tensor from a list of numpy.ndarrays is extremely slow. Please consider converting the list to a single numpy.ndarray with numpy.array() before converting to a tensor. (Triggered internally at  /opt/conda/conda-bld/pytorch_1659484775609/work/torch/csrc/utils/tensor_new.cpp:204.)\n",
      "  imgs = torch.tensor([item[0] for item in batch])\n",
      "/tmp/ipykernel_72641/73920298.py:4: UserWarning: Creating a tensor from a list of numpy.ndarrays is extremely slow. Please consider converting the list to a single numpy.ndarray with numpy.array() before converting to a tensor. (Triggered internally at  /opt/conda/conda-bld/pytorch_1659484775609/work/torch/csrc/utils/tensor_new.cpp:204.)\n",
      "  imgs = torch.tensor([item[0] for item in batch])\n"
     ]
    },
    {
     "name": "stdout",
     "output_type": "stream",
     "text": [
      "Epoch - 3 : loss train 1.466773264597826, accuracy train 0.33720487356185913\n"
     ]
    },
    {
     "name": "stderr",
     "output_type": "stream",
     "text": [
      "/tmp/ipykernel_72641/73920298.py:4: UserWarning: Creating a tensor from a list of numpy.ndarrays is extremely slow. Please consider converting the list to a single numpy.ndarray with numpy.array() before converting to a tensor. (Triggered internally at  /opt/conda/conda-bld/pytorch_1659484775609/work/torch/csrc/utils/tensor_new.cpp:204.)\n",
      "  imgs = torch.tensor([item[0] for item in batch])\n",
      "/tmp/ipykernel_72641/73920298.py:4: UserWarning: Creating a tensor from a list of numpy.ndarrays is extremely slow. Please consider converting the list to a single numpy.ndarray with numpy.array() before converting to a tensor. (Triggered internally at  /opt/conda/conda-bld/pytorch_1659484775609/work/torch/csrc/utils/tensor_new.cpp:204.)\n",
      "  imgs = torch.tensor([item[0] for item in batch])\n"
     ]
    },
    {
     "name": "stdout",
     "output_type": "stream",
     "text": [
      "Epoch - 4 : loss train 1.4658486377899247, accuracy train 0.3406214714050293\n"
     ]
    },
    {
     "name": "stderr",
     "output_type": "stream",
     "text": [
      "/tmp/ipykernel_72641/73920298.py:4: UserWarning: Creating a tensor from a list of numpy.ndarrays is extremely slow. Please consider converting the list to a single numpy.ndarray with numpy.array() before converting to a tensor. (Triggered internally at  /opt/conda/conda-bld/pytorch_1659484775609/work/torch/csrc/utils/tensor_new.cpp:204.)\n",
      "  imgs = torch.tensor([item[0] for item in batch])\n",
      "/tmp/ipykernel_72641/73920298.py:4: UserWarning: Creating a tensor from a list of numpy.ndarrays is extremely slow. Please consider converting the list to a single numpy.ndarray with numpy.array() before converting to a tensor. (Triggered internally at  /opt/conda/conda-bld/pytorch_1659484775609/work/torch/csrc/utils/tensor_new.cpp:204.)\n",
      "  imgs = torch.tensor([item[0] for item in batch])\n"
     ]
    },
    {
     "name": "stdout",
     "output_type": "stream",
     "text": [
      "Epoch - 5 : loss train 1.4887534259852777, accuracy train 0.3414050042629242\n"
     ]
    },
    {
     "name": "stderr",
     "output_type": "stream",
     "text": [
      "/tmp/ipykernel_72641/73920298.py:4: UserWarning: Creating a tensor from a list of numpy.ndarrays is extremely slow. Please consider converting the list to a single numpy.ndarray with numpy.array() before converting to a tensor. (Triggered internally at  /opt/conda/conda-bld/pytorch_1659484775609/work/torch/csrc/utils/tensor_new.cpp:204.)\n",
      "  imgs = torch.tensor([item[0] for item in batch])\n",
      "/tmp/ipykernel_72641/73920298.py:4: UserWarning: Creating a tensor from a list of numpy.ndarrays is extremely slow. Please consider converting the list to a single numpy.ndarray with numpy.array() before converting to a tensor. (Triggered internally at  /opt/conda/conda-bld/pytorch_1659484775609/work/torch/csrc/utils/tensor_new.cpp:204.)\n",
      "  imgs = torch.tensor([item[0] for item in batch])\n"
     ]
    },
    {
     "name": "stdout",
     "output_type": "stream",
     "text": [
      "Epoch - 6 : loss train 1.4345933358585983, accuracy train 0.3486883044242859\n"
     ]
    },
    {
     "name": "stderr",
     "output_type": "stream",
     "text": [
      "/tmp/ipykernel_72641/73920298.py:4: UserWarning: Creating a tensor from a list of numpy.ndarrays is extremely slow. Please consider converting the list to a single numpy.ndarray with numpy.array() before converting to a tensor. (Triggered internally at  /opt/conda/conda-bld/pytorch_1659484775609/work/torch/csrc/utils/tensor_new.cpp:204.)\n",
      "  imgs = torch.tensor([item[0] for item in batch])\n",
      "/tmp/ipykernel_72641/73920298.py:4: UserWarning: Creating a tensor from a list of numpy.ndarrays is extremely slow. Please consider converting the list to a single numpy.ndarray with numpy.array() before converting to a tensor. (Triggered internally at  /opt/conda/conda-bld/pytorch_1659484775609/work/torch/csrc/utils/tensor_new.cpp:204.)\n",
      "  imgs = torch.tensor([item[0] for item in batch])\n"
     ]
    },
    {
     "name": "stdout",
     "output_type": "stream",
     "text": [
      "Epoch - 7 : loss train 1.4064961730333045, accuracy train 0.3614054024219513\n"
     ]
    },
    {
     "name": "stderr",
     "output_type": "stream",
     "text": [
      "/tmp/ipykernel_72641/73920298.py:4: UserWarning: Creating a tensor from a list of numpy.ndarrays is extremely slow. Please consider converting the list to a single numpy.ndarray with numpy.array() before converting to a tensor. (Triggered internally at  /opt/conda/conda-bld/pytorch_1659484775609/work/torch/csrc/utils/tensor_new.cpp:204.)\n",
      "  imgs = torch.tensor([item[0] for item in batch])\n",
      "/tmp/ipykernel_72641/73920298.py:4: UserWarning: Creating a tensor from a list of numpy.ndarrays is extremely slow. Please consider converting the list to a single numpy.ndarray with numpy.array() before converting to a tensor. (Triggered internally at  /opt/conda/conda-bld/pytorch_1659484775609/work/torch/csrc/utils/tensor_new.cpp:204.)\n",
      "  imgs = torch.tensor([item[0] for item in batch])\n"
     ]
    },
    {
     "name": "stdout",
     "output_type": "stream",
     "text": [
      "Epoch - 8 : loss train 1.447687445777718, accuracy train 0.3572882413864136\n"
     ]
    },
    {
     "name": "stderr",
     "output_type": "stream",
     "text": [
      "/tmp/ipykernel_72641/73920298.py:4: UserWarning: Creating a tensor from a list of numpy.ndarrays is extremely slow. Please consider converting the list to a single numpy.ndarray with numpy.array() before converting to a tensor. (Triggered internally at  /opt/conda/conda-bld/pytorch_1659484775609/work/torch/csrc/utils/tensor_new.cpp:204.)\n",
      "  imgs = torch.tensor([item[0] for item in batch])\n",
      "/tmp/ipykernel_72641/73920298.py:4: UserWarning: Creating a tensor from a list of numpy.ndarrays is extremely slow. Please consider converting the list to a single numpy.ndarray with numpy.array() before converting to a tensor. (Triggered internally at  /opt/conda/conda-bld/pytorch_1659484775609/work/torch/csrc/utils/tensor_new.cpp:204.)\n",
      "  imgs = torch.tensor([item[0] for item in batch])\n"
     ]
    },
    {
     "name": "stdout",
     "output_type": "stream",
     "text": [
      "Epoch - 9 : loss train 1.541171431258324, accuracy train 0.3426711857318878\n"
     ]
    },
    {
     "name": "stderr",
     "output_type": "stream",
     "text": [
      "/tmp/ipykernel_72641/73920298.py:4: UserWarning: Creating a tensor from a list of numpy.ndarrays is extremely slow. Please consider converting the list to a single numpy.ndarray with numpy.array() before converting to a tensor. (Triggered internally at  /opt/conda/conda-bld/pytorch_1659484775609/work/torch/csrc/utils/tensor_new.cpp:204.)\n",
      "  imgs = torch.tensor([item[0] for item in batch])\n",
      "/tmp/ipykernel_72641/73920298.py:4: UserWarning: Creating a tensor from a list of numpy.ndarrays is extremely slow. Please consider converting the list to a single numpy.ndarray with numpy.array() before converting to a tensor. (Triggered internally at  /opt/conda/conda-bld/pytorch_1659484775609/work/torch/csrc/utils/tensor_new.cpp:204.)\n",
      "  imgs = torch.tensor([item[0] for item in batch])\n",
      "100%|████████████████████████████████████████████| 5/5 [27:36<00:00, 331.38s/it]"
     ]
    },
    {
     "name": "stdout",
     "output_type": "stream",
     "text": [
      "loss test  2.2592379338322037 accuracy test  tensor(0.1593)\n"
     ]
    },
    {
     "name": "stderr",
     "output_type": "stream",
     "text": [
      "\n"
     ]
    }
   ],
   "source": [
    "number_of_layers = [1,2,3,4,5]\n",
    "number_of_epoches = [3,5,10] \n",
    "Mean_Accuracy_Train = []\n",
    "Mean_Accuracy_Test = []\n",
    "for i in tqdm(number_of_layers):\n",
    "    Accuracy_Train = []\n",
    "    Accuracy_Test = []\n",
    "    for epoches in number_of_epoches:\n",
    "        \n",
    "        model     = Network(num_layers = i)\n",
    "        optimizer = torch.optim.Adam(model.parameters())\n",
    "        criterion = CrossEntropy()\n",
    "\n",
    "\n",
    "        device = torch.device(\"cuda\" if torch.cuda.is_available() else \"cpu\")\n",
    "\n",
    "        model.to(device)\n",
    "\n",
    "        for epoch in range(epoches):\n",
    "            loss_train, acc_train = perform_epoch(model, train_dataloader, criterion, \n",
    "                                optimizer=optimizer, device=device)\n",
    "            print(f\"Epoch - {epoch} : loss train {loss_train}, accuracy train {acc_train}\")\n",
    "            \n",
    "        Accuracy_Train.append(acc_train)\n",
    "        \n",
    "        loss_test, acc_test = perform_epoch(model, test_dataloader, criterion, \n",
    "                            optimizer=None, device=device)\n",
    "        print(\"loss test \", loss_test, \"accuracy test \", acc_test)\n",
    "        Accuracy_Test.append(acc_test)\n",
    "    \n",
    "    Mean_Accuracy_Train.append(np.mean(Accuracy_Train))\n",
    "    Mean_Accuracy_Test.append(np.mean(Accuracy_Test))"
   ]
  },
  {
   "cell_type": "code",
   "execution_count": 53,
   "metadata": {},
   "outputs": [
    {
     "data": {
      "image/png": "[encoded data removed]",
      "text/plain": [
       "<Figure size 780x520 with 1 Axes>"
      ]
     },
     "metadata": {
      "needs_background": "light"
     },
     "output_type": "display_data"
    }
   ],
   "source": [
    "plt.figure(figsize = (6, 4), dpi = 130)\n",
    "plt.plot(number_of_layers, Mean_Accuracy_Train, label='Train')\n",
    "plt.plot(number_of_layers, Mean_Accuracy_Test, label='Test')\n",
    "plt.xticks([1,2,3,4,5])\n",
    "plt.xlabel(\"Number of layers\")\n",
    "plt.title(\"Mean Accuracy\")\n",
    "plt.legend()\n",
    "plt.show()"
   ]
  },
  {
   "cell_type": "markdown",
   "metadata": {},
   "source": [
    "Согласно графикам можно сделать следующие выводы:\n",
    "    Во-первых, с увеличением числа слоёв модель становися более сложной, поэтому ей требуется больше эпох для обучения. Во-вторых, среди выбранного диапазона количества слоёв лучшее качество показала модель с наименьшим числом слоёв из рассматривыемых. Возможно, более сложные модели(с большим числом слоёв) недообучились, либо для решения конкретной задачи больше подходят более простые модели, либо мы не дошли до оптимального числа слоёв в силу небольшого диапазона."
   ]
  },
  {
   "cell_type": "markdown",
   "metadata": {
    "id": "d3vcONKQ86mu"
   },
   "source": [
    "## 4. Бонусная часть."
   ]
  },
  {
   "cell_type": "markdown",
   "metadata": {
    "id": "Kuhxy7aW86mu"
   },
   "source": [
    "### 4.1 Реализация метода оптимизации (3 + 3 балла).\n",
    "Реализуйте сами метод оптимизации  для рассмотренной выше архитектуры. Вы можете выбрать произвольный метод от градиентного спуска до современных вариантов. Продемонстрируйте правильную работу метода оптимизации, сравните его работы с Adam. \n",
    "\n",
    "**Дополнительные баллы** вы получите, если метод будет уникален среди сдавших задание. "
   ]
  },
  {
   "cell_type": "code",
   "execution_count": null,
   "metadata": {
    "id": "GYMu0uF1p6o0"
   },
   "outputs": [],
   "source": [
    "class SotaOptimizer(Optimizer):\n",
    "    def __init__(self, params, lr=1e-3):\n",
    "        defaults = dict(lr=lr)\n",
    "        super(SotaOptimizer, self).__init__(params, defaults)\n",
    "\n",
    "    def __setstate__(self, state):\n",
    "        super(SotaOptimizer, self).__setstate__(state)\n",
    "\n",
    "    @torch.no_grad()\n",
    "    def step(self,):\n",
    "\n",
    "        for group in self.param_groups:\n",
    "            lr = group['lr']\n",
    "            for p in group['params']:\n",
    "                if p.grad is not None:\n",
    "                    p.data.add_(-lr*p.grad)"
   ]
  },
  {
   "cell_type": "markdown",
   "metadata": {
    "id": "d3aabYCykXL7"
   },
   "source": [
    "### 4.2 Реализация современной функции активации (2 + 2 балла).\n",
    "Реализуйте одну из активаций, предложенных на лекции или в статье. Например, `Hardswish`. Сравните сеть с вашей активацией и с `ReLU`. \n",
    "\n",
    "**Дополнительные баллы** вы получите, если функция будет уникальна среди сдавших задание. "
   ]
  }
 ],
 "metadata": {
  "colab": {
   "collapsed_sections": [],
   "provenance": []
  },
  "kernelspec": {
   "display_name": "Python 3 (ipykernel)",
   "language": "python",
   "name": "python3"
  },
  "language_info": {
   "codemirror_mode": {
    "name": "ipython",
    "version": 3
   },
   "file_extension": ".py",
   "mimetype": "text/x-python",
   "name": "python",
   "nbconvert_exporter": "python",
   "pygments_lexer": "ipython3",
   "version": "3.9.7"
  }
 },
 "nbformat": 4,
 "nbformat_minor": 1
}
